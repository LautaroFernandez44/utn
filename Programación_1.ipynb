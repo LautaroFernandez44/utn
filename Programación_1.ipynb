{
  "cells": [
    {
      "cell_type": "markdown",
      "source": [
        "¡Absolutamente\\! Prepararé un informe extenso y detallado cubriendo todos los contenidos de los 10 PDFs que me proporcionaste. Me enfocaré en explicaciones simples, ejemplos claros y trataré de ofrecer \"visualizaciones\" conceptuales para ayudarte a comprender mejor cada tema, prestando especial atención a los bucles `for` anidados y las funciones recursivas.\n",
        "\n",
        "Dado que este será un informe completo, lo estructuraré por temas, basándome en el contenido de tus PDFs.\n",
        "\n",
        "-----\n",
        "\n",
        "**Informe Extenso y Detallado de Conceptos de Programación en Python**\n",
        "\n",
        "**Introducción**\n",
        "\n",
        "Este informe tiene como objetivo consolidar y explicar de manera sencilla los conceptos fundamentales de programación presentados en los 10 PDFs. La programación es el proceso de crear un conjunto de instrucciones que le dicen a una computadora cómo realizar una tarea. Python es un lenguaje de programación popular conocido por su sintaxis clara y legible, lo que lo hace ideal para aprender.\n",
        "\n",
        "-----\n",
        "\n",
        "**1. Fundamentos de Programación y Algoritmos (Basado en PDF \"1. Entradas y salidas\")**\n",
        "\n",
        "  * **¿Qué es un Algoritmo?**\n",
        "\n",
        "      * **Explicación Simple:** Un algoritmo es como una receta de cocina. Es una secuencia de pasos ordenados, precisos y finitos que debes seguir para resolver un problema o alcanzar un objetivo. Por ejemplo, el algoritmo para lavarte los dientes.\n",
        "      * **Características:**\n",
        "          * **Ordenado:** Los pasos tienen un orden específico.\n",
        "          * **Preciso:** Cada paso está claramente definido, sin ambigüedad.\n",
        "          * **Definido:** Si sigues los mismos pasos con las mismas entradas, siempre obtendrás el mismo resultado.\n",
        "          * **Finito:** Tiene un número limitado de pasos; no puede ser infinito.\n",
        "      * **Visualización Conceptual:**\n",
        "        ```\n",
        "        Problema: Necesito un café.\n",
        "\n",
        "        Algoritmo \"Hacer Café\":\n",
        "        1. Tomar una taza.\n",
        "        2. Poner café instantáneo en la taza.\n",
        "        3. Calentar agua.\n",
        "        4. Verter agua caliente en la taza.\n",
        "        5. Añadir azúcar (opcional).\n",
        "        6. Revolver.\n",
        "        7. ¡Disfrutar!\n",
        "        ```\n",
        "\n",
        "  * **Partes de un Algoritmo (y de un Programa):**\n",
        "\n",
        "      * **Entrada (INPUT):** Los datos o ingredientes que el algoritmo necesita para empezar. (Ej: granos de café, agua).\n",
        "      * **Proceso (PROCESS):** Los pasos o acciones que transforman las entradas. (Ej: moler granos, calentar agua, mezclar).\n",
        "      * **Salida (OUTPUT):** El resultado final después de que el algoritmo ha procesado las entradas. (Ej: una taza de café lista).\n",
        "      * **Visualización:**\n",
        "        ```\n",
        "        ENTRADAS ---> [ PROCESO ALGORÍTMICO ] ---> SALIDAS\n",
        "        ```\n",
        "\n",
        "-----\n",
        "\n",
        "**2. Entradas, Salidas y Variables (Basado en PDF \"1. Entradas y salidas\")**\n",
        "\n",
        "  * **Salidas: Función `print()`**\n",
        "\n",
        "      * **Explicación Simple:** La función `print()` es la forma que tiene tu programa de \"hablar\" o mostrar información en la pantalla (terminal o consola).\n",
        "      * **Cómo Funciona:** Le pasas un texto (entre comillas) o el valor de una variable, y `print()` lo muestra.\n",
        "      * **Ejemplo:**"
      ],
      "metadata": {
        "id": "7-Z4_i7hKxxa"
      }
    },
    {
      "cell_type": "code",
      "source": [
        "print(\"Hola, esto es un mensaje\") # Muestra el texto exacto\n",
        "        nombre = \"Ana\"\n",
        "        print(nombre) # Muestra el contenido de la variable 'nombre', o sea \"Ana\"\n",
        "        edad = 25\n",
        "        # Usando f-strings (cadenas formateadas) para combinar texto y variables:\n",
        "        print(f\"Mi nombre es {nombre} y tengo {edad} años.\")\n",
        "        # Salida: Mi nombre es Ana y tengo 25 años."
      ],
      "outputs": [],
      "execution_count": null,
      "metadata": {
        "id": "SOfFCmYaKxxe"
      }
    },
    {
      "cell_type": "markdown",
      "source": [
        "* La `f` antes de las comillas indica una f-string. Las variables se ponen entre `{}`.\n",
        "          * `\\n` dentro de una cadena de texto en `print()` significa \"nueva línea\". Ejemplo: `print(f\"Línea 1\\nLínea 2\")`.\n",
        "\n",
        "  * **Variables**\n",
        "\n",
        "      * **Explicación Simple:** Una variable es como una caja con una etiqueta donde guardas información (datos) que tu programa puede usar o cambiar. La \"etiqueta\" es el nombre de la variable.\n",
        "      * **Visualización Conceptual:**\n",
        "        ```\n",
        "          nombre_variable   ┌───────────┐\n",
        "          ----------------> │   Valor   │  (Ej: \"Juan\", 25, 3.14)\n",
        "                            └───────────┘\n",
        "        ```\n",
        "      * **Cómo Funciona:** Usas el signo igual (`=`) para asignar un valor a una variable (operador de asignación).\n",
        "      * **Ejemplo:**"
      ],
      "metadata": {
        "id": "8EABCcFWKxxe"
      }
    },
    {
      "cell_type": "code",
      "source": [
        "mensaje = \"Bienvenido a Python\" # Variable 'mensaje' guarda texto\n",
        "        numero_favorito = 7             # Variable 'numero_favorito' guarda un número entero\n",
        "        precio = 19.99                  # Variable 'precio' guarda un número con decimales"
      ],
      "outputs": [],
      "execution_count": null,
      "metadata": {
        "id": "08AnxvxfKxxf"
      }
    },
    {
      "cell_type": "markdown",
      "source": [
        "* **Reglas para Nombres de Variables (PEP-8):**\n",
        "          * Deben empezar con una letra (a-z, A-Z) o un guion bajo (`_`).\n",
        "          * No pueden empezar con un número.\n",
        "          * Pueden contener letras, números y guiones bajos.\n",
        "          * Son sensibles a mayúsculas y minúsculas (`edad` es diferente de `Edad`).\n",
        "          * No uses palabras reservadas de Python (como `if`, `for`, `while`, `print`) como nombres de variables.\n",
        "          * **Convención `snake_case` (PEP-8):** Para nombres de variables con múltiples palabras, usa guiones bajos para separarlas y todo en minúscula (ej: `mi_variable_larga`). (PDF 1, Pág. 14-15).\n",
        "\n",
        "  * **Entradas: Función `input()`**\n",
        "\n",
        "      * **Explicación Simple:** La función `input()` es la forma que tiene tu programa de \"escuchar\" o pedirle información al usuario a través de la terminal.\n",
        "      * **Cómo Funciona:** Muestra un mensaje al usuario (opcional), espera a que el usuario escriba algo y presione Enter. Lo que el usuario escribe **siempre se devuelve como una cadena de texto (string)**.\n",
        "      * **Ejemplo:**"
      ],
      "metadata": {
        "id": "XA6piOfrKxxf"
      }
    },
    {
      "cell_type": "code",
      "source": [
        "nombre_usuario = input(\"Por favor, ingresa tu nombre: \")\n",
        "        print(f\"Hola, {nombre_usuario}!\")\n",
        "\n",
        "        edad_texto = input(\"Ingresa tu edad: \")\n",
        "        # ¡Importante! edad_texto es un STRING. Si necesitas usarla como número, debes convertirla.\n",
        "        # edad_numero = int(edad_texto) # Veremos 'casting' más adelante"
      ],
      "outputs": [],
      "execution_count": null,
      "metadata": {
        "id": "FNd75s5IKxxf"
      }
    },
    {
      "cell_type": "markdown",
      "source": [
        "-----\n",
        "\n",
        "**3. Tipos de Datos Fundamentales (Basado en PDF \"2. Tipos de datos - Operadores\")**\n",
        "\n",
        "Cada \"caja\" (variable) puede guardar diferentes tipos de información. Python necesita saber qué tipo de dato es para poder trabajar con él correctamente.\n",
        "\n",
        "  * **Entero (`int`)**\n",
        "\n",
        "      * **Explicación Simple:** Números enteros, positivos o negativos, sin decimales.\n",
        "      * **Ejemplos:** `-5`, `0`, `23`, `1000`.\n",
        "      *"
      ],
      "metadata": {
        "id": "cI9qz0ojKxxg"
      }
    },
    {
      "cell_type": "code",
      "source": [
        "cantidad_manzanas = 12\n",
        "          temperatura_ambiente = -2"
      ],
      "outputs": [],
      "execution_count": null,
      "metadata": {
        "id": "JM9RMrJOKxxg"
      }
    },
    {
      "cell_type": "markdown",
      "source": [
        "* **Flotante (`float`)**\n",
        "\n",
        "      * **Explicación Simple:** Números que tienen una parte decimal (números reales).\n",
        "      * **Ejemplos:** `3.14`, `-0.5`, `23.0`, `100.99`.\n",
        "      *"
      ],
      "metadata": {
        "id": "MqE6-WroKxxg"
      }
    },
    {
      "cell_type": "code",
      "source": [
        "pi_aproximado = 3.14159\n",
        "          saldo_bancario = 1250.75"
      ],
      "outputs": [],
      "execution_count": null,
      "metadata": {
        "id": "yIWXCiHzKxxg"
      }
    },
    {
      "cell_type": "markdown",
      "source": [
        "* **Booleano (`bool`)**\n",
        "\n",
        "      * **Explicación Simple:** Representa valores de verdad: verdadero o falso. Solo puede tener dos valores.\n",
        "      * **Valores:** `True` (verdadero), `False` (falso). (¡Ojo\\! Con mayúscula inicial).\n",
        "      * **Ejemplos:** Se usan mucho en condiciones.\n",
        "      *"
      ],
      "metadata": {
        "id": "78c7VaL2Kxxh"
      }
    },
    {
      "cell_type": "code",
      "source": [
        "es_mayor_de_edad = True\n",
        "          llueve_ahora = False"
      ],
      "outputs": [],
      "execution_count": null,
      "metadata": {
        "id": "WU653twvKxxh"
      }
    },
    {
      "cell_type": "markdown",
      "source": [
        "* **Cadena de Caracteres (`str`)**\n",
        "\n",
        "      * **Explicación Simple:** Secuencias de caracteres (letras, números, símbolos) encerrados entre comillas simples (`'`) o dobles (`\"`).\n",
        "      * **Ejemplos:** `'Hola'`, `\"Python 3\"`, `\"123\"`, `\"¿Cómo estás?\"`.\n",
        "      *"
      ],
      "metadata": {
        "id": "53rr8K9HKxxh"
      }
    },
    {
      "cell_type": "code",
      "source": [
        "saludo = \"Buenos días\"\n",
        "          nombre_curso = 'Programación I'\n",
        "          direccion_web = \"www.ejemplo.com\""
      ],
      "outputs": [],
      "execution_count": null,
      "metadata": {
        "id": "YIM-RYMRKxxh"
      }
    },
    {
      "cell_type": "markdown",
      "source": [
        "* **Verificar el Tipo de Dato: `type()`**\n",
        "\n",
        "      * Puedes usar la función `type()` para saber qué tipo de dato contiene una variable.\n",
        "      *"
      ],
      "metadata": {
        "id": "Ays8x8PWKxxh"
      }
    },
    {
      "cell_type": "code",
      "source": [
        "numero = 10\n",
        "          print(type(numero))  # Salida: <class 'int'>\n",
        "\n",
        "          texto = \"Python\"\n",
        "          print(type(texto))   # Salida: <class 'str'>"
      ],
      "outputs": [],
      "execution_count": null,
      "metadata": {
        "id": "1lvrjuplKxxh"
      }
    },
    {
      "cell_type": "markdown",
      "source": [
        "* **Casting (Conversión de Tipos)**\n",
        "\n",
        "      * **Explicación Simple:** A veces necesitas convertir un dato de un tipo a otro. Por ejemplo, el `input()` te da un texto, pero si quieres hacer cálculos, necesitas convertir ese texto a número.\n",
        "      * **Funciones Comunes:**\n",
        "          * `int(valor)`: Convierte `valor` a entero.\n",
        "          * `float(valor)`: Convierte `valor` a flotante.\n",
        "          * `str(valor)`: Convierte `valor` a cadena de texto.\n",
        "      * **Ejemplo:**"
      ],
      "metadata": {
        "id": "bsfWzNoUKxxh"
      }
    },
    {
      "cell_type": "code",
      "source": [
        "edad_texto = input(\"Ingresa tu edad: \") # edad_texto es \"25\" (un string)\n",
        "        edad_numero = int(edad_texto)         # edad_numero es 25 (un int)\n",
        "        print(f\"El próximo año tendrás {edad_numero + 1} años.\")\n",
        "\n",
        "        numero_como_texto = \"3.14\"\n",
        "        numero_flotante = float(numero_como_texto) # numero_flotante es 3.14 (un float)\n",
        "        print(numero_flotante * 2) # Salida: 6.28\n",
        "\n",
        "        valor_numerico = 100\n",
        "        valor_como_texto = str(valor_numerico) # valor_como_texto es \"100\" (un string)\n",
        "        print(\"El valor es: \" + valor_como_texto)"
      ],
      "outputs": [
        {
          "output_type": "error",
          "ename": "IndentationError",
          "evalue": "unexpected indent (<ipython-input-1-629c04136887>, line 2)",
          "traceback": [
            "\u001b[0;36m  File \u001b[0;32m\"<ipython-input-1-629c04136887>\"\u001b[0;36m, line \u001b[0;32m2\u001b[0m\n\u001b[0;31m    edad_numero = int(edad_texto)         # edad_numero es 25 (un int)\u001b[0m\n\u001b[0m    ^\u001b[0m\n\u001b[0;31mIndentationError\u001b[0m\u001b[0;31m:\u001b[0m unexpected indent\n"
          ]
        }
      ],
      "execution_count": null,
      "metadata": {
        "colab": {
          "base_uri": "https://localhost:8080/",
          "height": 106
        },
        "id": "3QunV6AMKxxh",
        "outputId": "7149fc01-1a1c-4a63-ce6e-0deabf0fa54e"
      }
    },
    {
      "cell_type": "markdown",
      "source": [
        "* **¡Cuidado\\!** Si intentas convertir un texto que no representa un número válido a `int()` o `float()`, tu programa dará un error (ej: `int(\"hola\")`).\n",
        "\n",
        "-----\n",
        "\n",
        "**4. Operadores (Basado en PDF \"2. Tipos de datos - Operadores\")**\n",
        "\n",
        "Los operadores son símbolos especiales que realizan operaciones sobre los valores y variables.\n",
        "\n",
        "  * **Operadores Aritméticos** (Para operaciones matemáticas)\n",
        "\n",
        "      * `+` : Suma (Ej: `5 + 3` es `8`)\n",
        "      * `-` : Resta (Ej: `5 - 3` es `2`)\n",
        "      * `*` : Multiplicación (Ej: `5 * 3` es `15`)\n",
        "      * `/` : División (Siempre devuelve un `float`) (Ej: `10 / 4` es `2.5`)\n",
        "      * `//`: División Entera (Devuelve la parte entera de la división, descarta decimales) (Ej: `10 // 4` es `2`)\n",
        "      * `%` : Módulo o Resto (Devuelve el resto de una división entera) (Ej: `10 % 4` es `2` porque $10 = 2\\*4 + 2$)\n",
        "      * `**`: Exponenciación (Eleva un número a una potencia) (Ej: `2 ** 3` es $2^3 = 8$)\n",
        "      * **Ejemplo:**"
      ],
      "metadata": {
        "id": "HMz1VSeJKxxi"
      }
    },
    {
      "cell_type": "code",
      "source": [
        "a = 10\n",
        "        b = 3\n",
        "        print(f\"Suma: {a + b}\")           # 13\n",
        "        print(f\"División: {a / b}\")       # 3.333...\n",
        "        print(f\"División Entera: {a // b}\") # 3\n",
        "        print(f\"Resto: {a % b}\")          # 1\n",
        "        print(f\"Potencia: {a ** b}\")       # 1000"
      ],
      "outputs": [],
      "execution_count": null,
      "metadata": {
        "id": "eOVWFav7Kxxi"
      }
    },
    {
      "cell_type": "markdown",
      "source": [
        "* **Operadores Relacionales (o de Comparación)** (Comparan dos valores y devuelven `True` o `False`)\n",
        "\n",
        "      * `==`: Igual a (Ej: `5 == 5` es `True`; `5 == 3` es `False`)\n",
        "      * `!=`: Distinto de (Ej: `5 != 3` es `True`; `5 != 5` es `False`)\n",
        "      * `>` : Mayor que (Ej: `5 > 3` es `True`)\n",
        "      * `<` : Menor que (Ej: `3 < 5` es `True`)\n",
        "      * `>=`: Mayor o igual que (Ej: `5 >= 5` es `True`; `5 >= 3` es `True`)\n",
        "      * `<=`: Menor o igual que (Ej: `3 <= 5` es `True`; `3 <= 3` es `True`)\n",
        "      * **Ejemplo:**"
      ],
      "metadata": {
        "id": "0uWRYmDtKxxi"
      }
    },
    {
      "cell_type": "code",
      "source": [
        "edad = 20\n",
        "        es_adulto = edad >= 18  # es_adulto será True\n",
        "        print(f\"¿Es adulto? {es_adulto}\")\n",
        "\n",
        "        numero1 = 10\n",
        "        numero2 = 10\n",
        "        son_iguales = (numero1 == numero2) # son_iguales será True\n",
        "        print(f\"¿Son iguales? {son_iguales}\")"
      ],
      "outputs": [],
      "execution_count": null,
      "metadata": {
        "id": "zIgcRM5WKxxi"
      }
    },
    {
      "cell_type": "markdown",
      "source": [
        "* **Operadores Lógicos** (Combinan expresiones booleanas y devuelven `True` o `False`)\n",
        "\n",
        "      * `and`: Devuelve `True` si AMBAS expresiones son `True`. (Conjunción lógica)\n",
        "          * `True and True`  -\\> `True`\n",
        "          * `True and False` -\\> `False`\n",
        "          * `False and True` -\\> `False`\n",
        "          * `False and False`-\\> `False`\n",
        "      * `or` : Devuelve `True` si AL MENOS UNA de las expresiones es `True`. (Disyunción lógica)\n",
        "          * `True or True`  -\\> `True`\n",
        "          * `True or False` -\\> `True`\n",
        "          * `False or True` -\\> `True`\n",
        "          * `False or False`-\\> `False`\n",
        "      * `not`: Invierte el valor booleano. (Negación lógica)\n",
        "          * `not True` -\\> `False`\n",
        "          * `not False`-\\> `True`\n",
        "      * **Ejemplo:**"
      ],
      "metadata": {
        "id": "TIeKntFlKxxi"
      }
    },
    {
      "cell_type": "code",
      "source": [
        "edad = 25\n",
        "        tiene_licencia = True\n",
        "        puede_conducir = (edad >= 18) and tiene_licencia # Ambas deben ser True\n",
        "        print(f\"Puede conducir: {puede_conducir}\") # True\n",
        "\n",
        "        es_fin_de_semana = False\n",
        "        hay_sol = True\n",
        "        ir_a_la_playa = es_fin_de_semana or hay_sol # Al menos una debe ser True\n",
        "        print(f\"Ir a la playa: {ir_a_la_playa}\") # True\n",
        "\n",
        "        esta_lloviendo = False\n",
        "        no_esta_lloviendo = not esta_lloviendo\n",
        "        print(f\"No está lloviendo: {no_esta_lloviendo}\") # True"
      ],
      "outputs": [],
      "execution_count": null,
      "metadata": {
        "id": "BCpWUKwWKxxi"
      }
    },
    {
      "cell_type": "markdown",
      "source": [
        "* **Operadores de Asignación** (Asignan un valor a una variable)\n",
        "\n",
        "      * `=`   : Asignación simple (Ej: `x = 5`)\n",
        "      * `+=`  : Suma y asignación (Ej: `x += 3` es lo mismo que `x = x + 3`)\n",
        "      * `-=`  : Resta y asignación (Ej: `x -= 2` es lo mismo que `x = x - 2`)\n",
        "      * `*=`  : Multiplicación y asignación (Ej: `x *= 4` es lo mismo que `x = x * 4`)\n",
        "      * `/=`  : División y asignación (Ej: `x /= 2` es lo mismo que `x = x / 2`)\n",
        "      * `//=` : División entera y asignación\n",
        "      * `%=`  : Módulo y asignación\n",
        "      * `**=` : Exponenciación y asignación\n",
        "      * **Ejemplo:**"
      ],
      "metadata": {
        "id": "K_5TU412Kxxi"
      }
    },
    {
      "cell_type": "code",
      "source": [
        "contador = 0\n",
        "        contador += 1  # contador ahora es 1\n",
        "        print(f\"Contador: {contador}\")\n",
        "\n",
        "        total_compra = 100\n",
        "        descuento = 10\n",
        "        total_compra -= descuento # total_compra ahora es 90\n",
        "        print(f\"Total con descuento: {total_compra}\")"
      ],
      "outputs": [],
      "execution_count": null,
      "metadata": {
        "id": "ZBdoNsqHKxxi"
      }
    },
    {
      "cell_type": "markdown",
      "source": [
        "-----\n",
        "\n",
        "**5. Estilo de Código y PEP-8 (Basado en PDF \"1. Entradas y salidas\")**\n",
        "\n",
        "  * **¿Qué es PEP?**\n",
        "      * Python Enhancement Proposal (Propuesta de Mejora de Python). Son documentos que describen nuevas características o aspectos de Python.\n",
        "  * **¿Qué es PEP-8?**\n",
        "      * Es una guía de estilo específica para escribir código Python. Su objetivo es mejorar la legibilidad y consistencia del código. Un código más legible es más fácil de entender, mantener y depurar.\n",
        "  * **Algunas Reglas Clave del PEP-8:**\n",
        "      * **Indentación:**\n",
        "          * Python usa la indentación (espacios al inicio de una línea) para definir bloques de código (lo que va dentro de un `if`, `for`, `while`, función, etc.). NO usa `{}` como otros lenguajes.\n",
        "          * La convención es usar **4 espacios** por nivel de indentación.\n",
        "          * **Visualización:**"
      ],
      "metadata": {
        "id": "-6MKMOFRKxxi"
      }
    },
    {
      "cell_type": "code",
      "source": [
        "# CORRECTO\n",
        "            if condicion:\n",
        "                print(\"Dentro del if\") # 4 espacios\n",
        "                if otra_condicion:\n",
        "                    print(\"Dentro del if anidado\") # 8 espacios\n",
        "            print(\"Fuera del if\")\n",
        "\n",
        "            # INCORRECTO (mezcla o indentación inconsistente)\n",
        "            # if condicion:\n",
        "            # print(\"Mal indentado\")"
      ],
      "outputs": [],
      "execution_count": null,
      "metadata": {
        "id": "b8KCsbOyKxxi"
      }
    },
    {
      "cell_type": "markdown",
      "source": [
        "* **Tamaño Máximo de Línea:**\n",
        "          * Se recomienda limitar las líneas de código a **79 caracteres**. Esto ayuda a evitar tener que hacer scroll horizontal y facilita la lectura en diferentes tamaños de pantalla.\n",
        "      * **Espacios en Blanco:**\n",
        "          * Usar espacios alrededor de operadores (`=`, `+`, `-`, `==`, etc.) y después de las comas para mejorar la legibilidad.\n",
        "          * **Ejemplos (PDF 1, Pág. 13):**"
      ],
      "metadata": {
        "id": "-v-5QJtfKxxj"
      }
    },
    {
      "cell_type": "code",
      "source": [
        "# Correcto\n",
        "            x = 5\n",
        "            if x == 5:\n",
        "                pass # 'pass' es una instrucción que no hace nada, se usa como placeholder\n",
        "            variable_a = 0\n",
        "\n",
        "            # Incorrecto\n",
        "            # x=5\n",
        "            # if x==5:\n",
        "            #     pass\n",
        "            # variable_a=0"
      ],
      "outputs": [],
      "execution_count": null,
      "metadata": {
        "id": "9ruO77JQKxxj"
      }
    },
    {
      "cell_type": "markdown",
      "source": [
        "* Evitar espacios innecesarios justo dentro de paréntesis, corchetes o llaves.\n",
        "      * **Nombres de Variables y Funciones:**\n",
        "          * Ya mencionado: `snake_case` para variables y funciones (ej: `mi_variable`, `calcular_total()`).\n",
        "      * **Comentarios:**\n",
        "          * Usa comentarios (`# comentario`) para explicar partes del código que no son obvias.\n",
        "\n",
        "-----\n",
        "\n",
        "**6. Estructuras de Control Condicionales (Basado en PDF \"3. Estructuras Condicionales\")**\n",
        "\n",
        "Normalmente, un programa ejecuta sus instrucciones una tras otra, en secuencia. Las estructuras condicionales permiten cambiar este flujo, haciendo que ciertos bloques de código se ejecuten (o no) dependiendo de si se cumple una condición.\n",
        "\n",
        "  * **Estructura `if` (Simple)**\n",
        "\n",
        "      * **Explicación Simple:** Si una condición es verdadera, entonces se ejecuta un bloque de código. Si es falsa, ese bloque se ignora.\n",
        "      * **Sintaxis:**"
      ],
      "metadata": {
        "id": "fz8P91RZKxxj"
      }
    },
    {
      "cell_type": "code",
      "source": [
        "if condicion_booleana:\n",
        "            # Bloque de código a ejecutar si la condición es True\n",
        "            # (indentado con 4 espacios)\n",
        "            print(\"La condición es verdadera.\")\n",
        "        # El programa continúa aquí después del if"
      ],
      "outputs": [],
      "execution_count": null,
      "metadata": {
        "id": "zbqd3o9wKxxj"
      }
    },
    {
      "cell_type": "markdown",
      "source": [
        "* **Visualización Conceptual:**\n",
        "        ```\n",
        "            ┌───────────┐\n",
        "        ───>│  Condición  ├─(True)──> Ejecutar Bloque IF ───┐\n",
        "            └─────┬─────┘                                  │\n",
        "                  │ (False)                                │\n",
        "                  └────────────────────────────────────────┘\n",
        "                                                          ▼\n",
        "                                                  Continuar programa\n",
        "        ```\n",
        "      * **Ejemplo:**"
      ],
      "metadata": {
        "id": "Qln_2C94Kxxj"
      }
    },
    {
      "cell_type": "code",
      "source": [
        "edad = 20\n",
        "        if edad >= 18:\n",
        "            print(\"Eres mayor de edad.\") # Esto se imprimirá"
      ],
      "outputs": [],
      "execution_count": null,
      "metadata": {
        "id": "JqiP_GYQKxxj"
      }
    },
    {
      "cell_type": "markdown",
      "source": [
        "* **Estructura `if-else` (Doble)**\n",
        "\n",
        "      * **Explicación Simple:** Si una condición es verdadera, se ejecuta un bloque de código. Si la condición es falsa, se ejecuta OTRO bloque de código.\n",
        "      * **Sintaxis:**"
      ],
      "metadata": {
        "id": "S83K86CkKxxj"
      }
    },
    {
      "cell_type": "code",
      "source": [
        "if condicion_booleana:\n",
        "            # Bloque de código si la condición es True\n",
        "            print(\"La condición es verdadera.\")\n",
        "        else:\n",
        "            # Bloque de código si la condición es False\n",
        "            print(\"La condición es falsa.\")"
      ],
      "outputs": [],
      "execution_count": null,
      "metadata": {
        "id": "q9tvpLf2Kxxj"
      }
    },
    {
      "cell_type": "markdown",
      "source": [
        "* **Visualización Conceptual:**\n",
        "        ```\n",
        "            ┌───────────┐\n",
        "        ───>│  Condición  ├─(True)──> Ejecutar Bloque IF ────┐\n",
        "            └─────┬─────┘                                   │\n",
        "                  │ (False)                                 │\n",
        "                  └─────────> Ejecutar Bloque ELSE ─┐       │\n",
        "                                                    │       │\n",
        "                                                    └───────┴──> Continuar\n",
        "        ```\n",
        "      * **Ejemplo:**"
      ],
      "metadata": {
        "id": "IeCmZQOpKxxj"
      }
    },
    {
      "cell_type": "code",
      "source": [
        "temperatura = 15\n",
        "        if temperatura > 25:\n",
        "            print(\"Hace calor.\")\n",
        "        else:\n",
        "            print(\"No hace tanto calor.\") # Esto se imprimirá"
      ],
      "outputs": [],
      "execution_count": null,
      "metadata": {
        "id": "HCHIUzqvKxxk"
      }
    },
    {
      "cell_type": "markdown",
      "source": [
        "* **Estructura `if-elif-else` (Múltiple)**\n",
        "\n",
        "      * **Explicación Simple:** Permite evaluar múltiples condiciones en secuencia. Se prueba la primera condición (`if`). Si es falsa, se prueba la siguiente (`elif`). Si también es falsa, la siguiente (`elif`), y así sucesivamente. Si todas las condiciones `if` y `elif` son falsas, se ejecuta el bloque `else` (opcional). Solo se ejecuta UN bloque de código: el correspondiente a la PRIMERA condición verdadera que se encuentre.\n",
        "      * **Sintaxis:**"
      ],
      "metadata": {
        "id": "6m9JGm6wKxxk"
      }
    },
    {
      "cell_type": "code",
      "source": [
        "if condicion1:\n",
        "            # Bloque si condicion1 es True\n",
        "            print(\"Se cumple condicion1.\")\n",
        "        elif condicion2:\n",
        "            # Bloque si condicion1 es False Y condicion2 es True\n",
        "            print(\"Se cumple condicion2.\")\n",
        "        elif condicion3:\n",
        "            # Bloque si condicion1 y condicion2 son False Y condicion3 es True\n",
        "            print(\"Se cumple condicion3.\")\n",
        "        else:\n",
        "            # Bloque si NINGUNA de las condiciones anteriores es True (opcional)\n",
        "            print(\"No se cumple ninguna condición.\")"
      ],
      "outputs": [],
      "execution_count": null,
      "metadata": {
        "id": "PZkvfiTqKxxm"
      }
    },
    {
      "cell_type": "markdown",
      "source": [
        "* **Ejemplo:**"
      ],
      "metadata": {
        "id": "FUAALK5fKxxm"
      }
    },
    {
      "cell_type": "code",
      "source": [
        "nota = 75\n",
        "        if nota >= 90:\n",
        "            print(\"Sobresaliente\")\n",
        "        elif nota >= 80:\n",
        "            print(\"Notable\")\n",
        "        elif nota >= 70:\n",
        "            print(\"Bien\") # Esto se imprimirá\n",
        "        elif nota >= 60:\n",
        "            print(\"Suficiente\")\n",
        "        else:\n",
        "            print(\"Insuficiente\")"
      ],
      "outputs": [],
      "execution_count": null,
      "metadata": {
        "id": "pkcXcUafKxxm"
      }
    },
    {
      "cell_type": "markdown",
      "source": [
        "* **Condicionales Anidados**\n",
        "\n",
        "      * **Explicación Simple:** Puedes poner una estructura `if` (o `if-else`, `if-elif-else`) dentro de otra.\n",
        "      * **Ejemplo (Adaptado de Mario en PDF 3, Pág. 11 y 19):**"
      ],
      "metadata": {
        "id": "sfRqAUEXKxxm"
      }
    },
    {
      "cell_type": "code",
      "source": [
        "accion_mario_vs_tortuga = \"pisa\" # podría ser \"choca\", \"salta_arriba\"\n",
        "        agarra_tortuga_despues_de_pisar = True\n",
        "        vidas = 3\n",
        "        puntaje = 0\n",
        "\n",
        "        if accion_mario_vs_tortuga == \"choca\":\n",
        "            vidas -= 1\n",
        "            print(\"Mario chocó. Vidas restantes:\", vidas)\n",
        "            # reiniciar_nivel()\n",
        "        elif accion_mario_vs_tortuga == \"salta_arriba\":\n",
        "            print(\"Mario saltó por arriba. El juego sigue.\")\n",
        "            # mario_avanza()\n",
        "        elif accion_mario_vs_tortuga == \"pisa\":\n",
        "            print(\"Mario pisó la tortuga.\")\n",
        "            # matar_tortuga()\n",
        "            if agarra_tortuga_despues_de_pisar: # IF ANIDADO\n",
        "                print(\"Mario agarró la tortuga y la puede lanzar.\")\n",
        "                # lanzar_tortuga()\n",
        "                # matar_enemigos()\n",
        "            else: # ELSE del IF ANIDADO\n",
        "                puntaje += 100\n",
        "                print(\"Mario solo pisó y ganó puntos. Puntaje:\", puntaje)"
      ],
      "outputs": [],
      "execution_count": null,
      "metadata": {
        "id": "fPd5AaruKxxm"
      }
    },
    {
      "cell_type": "markdown",
      "source": [
        "* **Selección Múltiple: `match` (Python 3.10+)** (PDF 3, Pág. 14-17)\n",
        "\n",
        "      * **Explicación Simple:** La sentencia `match` (similar a un `switch` en otros lenguajes) toma una expresión y compara su valor con una serie de patrones definidos en bloques `case`. Es útil cuando tienes varias posibles acciones basadas en el valor de una variable.\n",
        "      * **Sintaxis Básica:**"
      ],
      "metadata": {
        "id": "VZE-cpwNKxxn"
      }
    },
    {
      "cell_type": "code",
      "source": [
        "variable_a_evaluar = valor\n",
        "        match variable_a_evaluar:\n",
        "            case patron1:\n",
        "                # Código si coincide con patron1\n",
        "                print(\"Coincide con patrón 1\")\n",
        "            case patron2:\n",
        "                # Código si coincide con patron2\n",
        "                print(\"Coincide con patrón 2\")\n",
        "            case patron3 | patron4: # Múltiples literales con | (\"o\")\n",
        "                print(\"Coincide con patrón 3 o 4\")\n",
        "            case _: # Caso por defecto (opcional, el guion bajo es una convención)\n",
        "                print(\"No coincide con ningún patrón conocido.\")"
      ],
      "outputs": [],
      "execution_count": null,
      "metadata": {
        "id": "aYbiS52TKxxn"
      }
    },
    {
      "cell_type": "markdown",
      "source": [
        "* **Ejemplo (Adaptado de comida en PDF 3, Pág. 16):**"
      ],
      "metadata": {
        "id": "Jn28tykYKxxn"
      }
    },
    {
      "cell_type": "code",
      "source": [
        "comida_seleccionada = \"Sushi\"\n",
        "        match comida_seleccionada:\n",
        "            case \"Pizza\":\n",
        "                print(\"¡Excelente elección, la pizza nunca falla!\")\n",
        "            case \"Ensalada\" | \"Vegetales\":\n",
        "                print(\"Buena elección para una comida saludable.\")\n",
        "            case \"Sushi\":\n",
        "                print(\"Una opción sofisticada y deliciosa.\") # Esto se imprimirá\n",
        "            case _: # Caso por defecto\n",
        "                print(\"Opción no reconocida, pero ¡buen provecho!\")"
      ],
      "outputs": [],
      "execution_count": null,
      "metadata": {
        "id": "nA2I5BwwKxxn"
      }
    },
    {
      "cell_type": "markdown",
      "source": [
        "* También puedes usar `if` dentro de un `case` para condiciones más específicas.\n",
        "\n",
        "-----\n",
        "\n",
        "**7. Estructuras de Control Repetitivas (Bucles)**\n",
        "\n",
        "Los bucles permiten ejecutar un bloque de código múltiples veces. Son fundamentales para automatizar tareas repetitivas.\n",
        "\n",
        "**A. Bucle `while` (Basado en PDFs \"4. Bucle While\" y \"5. While Validaciones\")**\n",
        "\n",
        "  * **Concepto y Sintaxis:**\n",
        "\n",
        "      * **Explicación Simple:** El bucle `while` ejecuta un bloque de código MIENTRAS una condición sea verdadera. Antes de cada repetición (iteración), se evalúa la condición. Si es `True`, el bloque se ejecuta. Si es `False`, el bucle termina y el programa continúa con la siguiente instrucción después del bucle.\n",
        "      * **Sintaxis:**"
      ],
      "metadata": {
        "id": "NOlaYLJ2Kxxn"
      }
    },
    {
      "cell_type": "code",
      "source": [
        "while condicion_booleana:\n",
        "            # Bloque de código a repetir mientras la condición sea True\n",
        "            # (indentado)\n",
        "            print(\"Dentro del while...\")\n",
        "            # ¡IMPORTANTE! Algo dentro del bucle debe, eventualmente,\n",
        "            # hacer que la 'condicion_booleana' se vuelva False,\n",
        "            # de lo contrario, tendrás un bucle infinito.\n",
        "        print(\"Fin del while.\")"
      ],
      "outputs": [],
      "execution_count": null,
      "metadata": {
        "id": "BXZEkTiSKxxn"
      }
    },
    {
      "cell_type": "markdown",
      "source": [
        "* **Visualización Conceptual:**\n",
        "        ```\n",
        "                   ┌────────────────────────┐\n",
        "                   │                        │ (True)\n",
        "                   ▼                        │\n",
        "            ┌───────────┐      ┌──────────────────────┐\n",
        "        ───>│  Condición? ├─────>│ Ejecutar Bloque While│\n",
        "            └─────┬─────┘      └──────────────────────┘\n",
        "                  │ (False)\n",
        "                  ▼\n",
        "            Continuar programa\n",
        "        ```\n",
        "      * **Ejemplo (Contar hasta 3):**"
      ],
      "metadata": {
        "id": "fOEE-FzEKxxn"
      }
    },
    {
      "cell_type": "code",
      "source": [
        "contador = 1\n",
        "        while contador <= 3:\n",
        "            print(f\"El contador es: {contador}\")\n",
        "            contador += 1 # Incrementar el contador para que eventualmente la condición sea False\n",
        "        # Salida:\n",
        "        # El contador es: 1\n",
        "        # El contador es: 2\n",
        "        # El contador es: 3"
      ],
      "outputs": [],
      "execution_count": null,
      "metadata": {
        "id": "uhyAyWDtKxxn"
      }
    },
    {
      "cell_type": "markdown",
      "source": [
        "* **Contadores y Acumuladores (PDF 4, Pág. 6-7):**\n",
        "\n",
        "      * **Contador:** Una variable (generalmente entera) que se incrementa (o decrementa) en un valor fijo en cada iteración. Sirve para contar cuántas veces sucede algo."
      ],
      "metadata": {
        "id": "2AZvgkyMKxxn"
      }
    },
    {
      "cell_type": "code",
      "source": [
        "# Contador de números pares del 1 al 10\n",
        "        numero = 1\n",
        "        cantidad_pares = 0\n",
        "        while numero <= 10:\n",
        "            if numero % 2 == 0: # Si es par\n",
        "                cantidad_pares += 1\n",
        "            numero += 1\n",
        "        print(f\"Cantidad de números pares: {cantidad_pares}\") # Salida: 5"
      ],
      "outputs": [],
      "execution_count": null,
      "metadata": {
        "id": "eDGbVYZ2Kxxo"
      }
    },
    {
      "cell_type": "markdown",
      "source": [
        "* **Acumulador:** Una variable (numérica) que va sumando (o acumulando) diferentes valores en cada iteración."
      ],
      "metadata": {
        "id": "M905LKKBKxxo"
      }
    },
    {
      "cell_type": "code",
      "source": [
        "# Acumulador para sumar los primeros 5 números\n",
        "        numero_actual = 1\n",
        "        suma_total = 0 # Iniciar acumulador en 0\n",
        "        while numero_actual <= 5:\n",
        "            suma_total += numero_actual # Acumula el valor de numero_actual\n",
        "            numero_actual += 1\n",
        "        print(f\"La suma de los primeros 5 números es: {suma_total}\") # Salida: 15 (1+2+3+4+5)"
      ],
      "outputs": [],
      "execution_count": null,
      "metadata": {
        "id": "dMX1kTt1Kxxo"
      }
    },
    {
      "cell_type": "markdown",
      "source": [
        "* **Cálculo de Promedios, Porcentajes, Máximos/Mínimos (PDF 4, Pág. 8-11):**\n",
        "\n",
        "      * **Promedio:** `suma_total_de_valores / cantidad_de_valores` (usa un acumulador para la suma y un contador para la cantidad).\n",
        "      * **Porcentaje:** `(parte / total) * 100`.\n",
        "      * **Máximo/Mínimo:**\n",
        "          * Se inicializa una variable `maximo` con un valor muy pequeño (o el primer número leído) y una variable `minimo` con un valor muy grande (o el primer número leído).\n",
        "          * Dentro del bucle, cada nuevo número se compara con `maximo` y `minimo` actuales, actualizándolos si es necesario.\n",
        "          * Python ofrece `float('-inf')` (infinito negativo) y `float('inf')` (infinito positivo) que son útiles para inicializar.\n",
        "        <!-- end list -->"
      ],
      "metadata": {
        "id": "Rd4GNKowKxxo"
      }
    },
    {
      "cell_type": "code",
      "source": [
        "# Encontrar el máximo de N números (simplificado)\n",
        "        cantidad_a_ingresar = 3\n",
        "        numero_maximo = float('-inf') # Inicializar con el valor más pequeño posible\n",
        "        contador_ingresos = 0\n",
        "\n",
        "        while contador_ingresos < cantidad_a_ingresar:\n",
        "            entrada = input(f\"Ingrese el número {contador_ingresos + 1}: \")\n",
        "            numero_actual = int(entrada)\n",
        "            if numero_actual > numero_maximo:\n",
        "                numero_maximo = numero_actual # Actualizar el máximo\n",
        "            contador_ingresos += 1\n",
        "        print(f\"El número máximo ingresado es: {numero_maximo}\")"
      ],
      "outputs": [],
      "execution_count": null,
      "metadata": {
        "id": "td4IH1szKxxo"
      }
    },
    {
      "cell_type": "markdown",
      "source": [
        "* **Validaciones con `while` (PDF 5):**\n",
        "\n",
        "      * Es un uso muy común del `while`: pedir un dato al usuario y, si no es válido, volver a pedirlo hasta que ingrese algo correcto.\n",
        "      * **Validar un valor específico (Clave - PDF 5, Pág. 2):**"
      ],
      "metadata": {
        "id": "5NJ30FxAKxxo"
      }
    },
    {
      "cell_type": "code",
      "source": [
        "clave_secreta = \"1234\"\n",
        "        clave_ingresada = input(\"Ingrese su clave: \")\n",
        "        while clave_ingresada != clave_secreta:\n",
        "            clave_ingresada = input(\"ERROR. Clave incorrecta. Ingrese nuevamente: \")\n",
        "        print(\"Acceso concedido.\")"
      ],
      "outputs": [],
      "execution_count": null,
      "metadata": {
        "id": "ig88He6cKxxo"
      }
    },
    {
      "cell_type": "markdown",
      "source": [
        "* **Validar un Rango (PDF 5, Pág. 3):**"
      ],
      "metadata": {
        "id": "ZiHOfoq5Kxxo"
      }
    },
    {
      "cell_type": "code",
      "source": [
        "nota_texto = input(\"Ingrese la nota (1-10): \")\n",
        "        nota = int(nota_texto)\n",
        "        while nota < 1 or nota > 10: # Condición de error: nota fuera de rango\n",
        "            nota_texto = input(\"ERROR. Nota fuera de rango (1-10). Ingrese nuevamente: \")\n",
        "            nota = int(nota_texto)\n",
        "        print(f\"Nota ingresada: {nota}\")"
      ],
      "outputs": [],
      "execution_count": null,
      "metadata": {
        "id": "m5-tXAwRKxxp"
      }
    },
    {
      "cell_type": "markdown",
      "source": [
        "* **Validar un Conjunto de Valores (PDF 5, Pág. 4):**"
      ],
      "metadata": {
        "id": "RKFIhBcQKxxp"
      }
    },
    {
      "cell_type": "code",
      "source": [
        "color = input(\"Ingrese un color primario (Rojo, Amarillo, Azul): \")\n",
        "        while color != \"Rojo\" and color != \"Amarillo\" and color != \"Azul\":\n",
        "            color = input(\"ERROR. Color no válido. Ingrese (Rojo, Amarillo, Azul): \")\n",
        "        print(f\"Color seleccionado: {color}\")"
      ],
      "outputs": [],
      "execution_count": null,
      "metadata": {
        "id": "fdAzVC6uKxxp"
      }
    },
    {
      "cell_type": "markdown",
      "source": [
        "* **Sentencia `break` (PDF 5, Pág. 5 y PDF 4, Pág. 9)**\n",
        "\n",
        "      * **Explicación Simple:** `break` se usa dentro de un bucle (`while` o `for`) para terminarlo inmediatamente, sin importar si la condición del bucle sigue siendo verdadera. El control del programa pasa a la siguiente instrucción después del bucle.\n",
        "      * **Ejemplo:**"
      ],
      "metadata": {
        "id": "ckxbqHFDKxxp"
      }
    },
    {
      "cell_type": "code",
      "source": [
        "contador = 0\n",
        "        while True: # Bucle potencialmente infinito\n",
        "            print(f\"Contador: {contador}\")\n",
        "            contador += 1\n",
        "            if contador == 5:\n",
        "                print(\"Alcanzamos 5, saliendo del bucle con break.\")\n",
        "                break # Termina el while\n",
        "        print(\"Después del bucle while.\")"
      ],
      "outputs": [],
      "execution_count": null,
      "metadata": {
        "id": "k4QYxL7qKxxp"
      }
    },
    {
      "cell_type": "markdown",
      "source": [
        "**B. Bucle `for` (Basado en PDF \"6. Bucle For\")**\n",
        "\n",
        "  * **Concepto y Sintaxis:**\n",
        "\n",
        "      * **Explicación Simple:** El bucle `for` se usa para iterar (recorrer) sobre los elementos de una secuencia (como una lista, una cadena de texto, o una secuencia generada por `range()`) un número **definido de veces**. A diferencia del `while`, generalmente sabes de antemano cuántas veces se repetirá.\n",
        "      * **Sintaxis:**"
      ],
      "metadata": {
        "id": "lp1qni57Kxxp"
      }
    },
    {
      "cell_type": "code",
      "source": [
        "# 'variable_iteradora' toma el valor de cada elemento de la 'secuencia' en cada iteración\n",
        "        for variable_iteradora in secuencia:\n",
        "            # Bloque de código a ejecutar para cada elemento\n",
        "            # (indentado)\n",
        "            print(f\"Elemento actual: {variable_iteradora}\")\n",
        "        print(\"Fin del bucle for.\")"
      ],
      "outputs": [],
      "execution_count": null,
      "metadata": {
        "id": "I0LIELpFKxxp"
      }
    },
    {
      "cell_type": "markdown",
      "source": [
        "* **Visualización Conceptual:**\n",
        "        ```\n",
        "        Secuencia: [ elem1, elem2, elem3 ]\n",
        "                       │       │       └─> Iteración 3: variable_iteradora = elem3 -> Ejecutar Bloque\n",
        "                       │       └─────────> Iteración 2: variable_iteradora = elem2 -> Ejecutar Bloque\n",
        "                       └─────────────────> Iteración 1: variable_iteradora = elem1 -> Ejecutar Bloque\n",
        "                                                                                              │\n",
        "                                                                                              ▼\n",
        "                                                                                       Fin del bucle\n",
        "        ```\n",
        "\n",
        "  * **Función `range()` (PDF 6, Pág. 4-5):**\n",
        "\n",
        "      * Es muy común usar `for` con `range()` para repetir un bloque de código un número específico de veces o para generar índices.\n",
        "      * `range(n)`: Genera una secuencia de números desde `0` hasta `n-1`."
      ],
      "metadata": {
        "id": "0I8OAe1pKxxp"
      }
    },
    {
      "cell_type": "code",
      "source": [
        "for i in range(5): # i tomará valores 0, 1, 2, 3, 4\n",
        "            print(i)\n",
        "        # Salida: 0, 1, 2, 3, 4"
      ],
      "outputs": [],
      "execution_count": null,
      "metadata": {
        "id": "N_S-G-8-Kxxp"
      }
    },
    {
      "cell_type": "markdown",
      "source": [
        "* `range(inicio, fin)`: Genera una secuencia desde `inicio` hasta `fin-1`."
      ],
      "metadata": {
        "id": "_QvIGjOHKxxp"
      }
    },
    {
      "cell_type": "code",
      "source": [
        "for i in range(2, 6): # i tomará valores 2, 3, 4, 5\n",
        "            print(i)\n",
        "        # Salida: 2, 3, 4, 5"
      ],
      "outputs": [],
      "execution_count": null,
      "metadata": {
        "id": "mRZZlL7VKxxq"
      }
    },
    {
      "cell_type": "markdown",
      "source": [
        "* `range(inicio, fin, salto)`: Genera una secuencia desde `inicio` hasta `fin-1`, incrementando/decrementando en `salto`."
      ],
      "metadata": {
        "id": "7tSlvb8NKxxq"
      }
    },
    {
      "cell_type": "code",
      "source": [
        "for i in range(1, 10, 2): # i tomará valores 1, 3, 5, 7, 9\n",
        "            print(i)\n",
        "        # Salida: 1, 3, 5, 7, 9"
      ],
      "outputs": [],
      "execution_count": null,
      "metadata": {
        "id": "FuJFkA6iKxxq"
      }
    },
    {
      "cell_type": "markdown",
      "source": [
        "* **Bucles `for` en Decremento (PDF 6, Pág. 7-9):**\n",
        "\n",
        "      * Usando `range()` con un salto negativo:"
      ],
      "metadata": {
        "id": "4H78uX_LKxxq"
      }
    },
    {
      "cell_type": "code",
      "source": [
        "for i in range(5, 0, -1): # i tomará valores 5, 4, 3, 2, 1\n",
        "            print(i)\n",
        "        print(\"¡Despegue!\")"
      ],
      "outputs": [],
      "execution_count": null,
      "metadata": {
        "id": "jRpxoSXIKxxq"
      }
    },
    {
      "cell_type": "markdown",
      "source": [
        "* Usando `reversed(range())`:"
      ],
      "metadata": {
        "id": "MV9fVYF4Kxxq"
      }
    },
    {
      "cell_type": "code",
      "source": [
        "for i in reversed(range(5)): # range(5) es 0,1,2,3,4. reversed() lo invierte.\n",
        "            print(i) # i tomará valores 4, 3, 2, 1, 0"
      ],
      "outputs": [],
      "execution_count": null,
      "metadata": {
        "id": "TgUvh7YBKxxq"
      }
    },
    {
      "cell_type": "markdown",
      "source": [
        "* **Sentencias `break` y `continue` en `for` (PDF 6, Pág. 10-13):**\n",
        "\n",
        "      * **`break`**: Funciona igual que en `while`. Termina el bucle `for` inmediatamente."
      ],
      "metadata": {
        "id": "0H91dlfoKxxq"
      }
    },
    {
      "cell_type": "code",
      "source": [
        "for numero in range(1, 11): # Números del 1 al 10\n",
        "            if numero == 5:\n",
        "                print(\"Encontré el 5, ¡termino el bucle!\")\n",
        "                break\n",
        "            print(numero)\n",
        "        # Salida: 1, 2, 3, 4, Encontré el 5, ¡termino el bucle!"
      ],
      "outputs": [],
      "execution_count": null,
      "metadata": {
        "id": "0BKA_qr5Kxxq"
      }
    },
    {
      "cell_type": "markdown",
      "source": [
        "* **`continue`**: Termina la iteración ACTUAL y salta al inicio de la SIGUIENTE iteración del bucle `for`. No termina el bucle por completo."
      ],
      "metadata": {
        "id": "w3UjnRggKxxq"
      }
    },
    {
      "cell_type": "code",
      "source": [
        "for numero in range(1, 6): # Números del 1 al 5\n",
        "            if numero == 3:\n",
        "                print(\"Saltando el número 3.\")\n",
        "                continue # Salta el resto del código de esta iteración y va a la siguiente\n",
        "            print(f\"Procesando número: {numero}\")\n",
        "        # Salida:\n",
        "        # Procesando número: 1\n",
        "        # Procesando número: 2\n",
        "        # Saltando el número 3.\n",
        "        # Procesando número: 4\n",
        "        # Procesando número: 5"
      ],
      "outputs": [],
      "execution_count": null,
      "metadata": {
        "id": "2LL2mb0KKxxr"
      }
    },
    {
      "cell_type": "markdown",
      "source": [
        "* **Bucles `for` Anidados (¡Explicación Detallada\\!) (PDF 6, Pág. 14-16)**\n",
        "\n",
        "      * **Explicación Simple:** Un bucle anidado es un bucle dentro de otro bucle. Piensa en las manecillas de un reloj: el minutero (bucle interno) da una vuelta completa por cada hora que avanza el horario (bucle externo).\n",
        "      * **Cómo Funciona:** Por CADA iteración del bucle externo, el bucle interno completa TODAS sus iteraciones.\n",
        "      * **Sintaxis:**"
      ],
      "metadata": {
        "id": "YyO_7Ir5Kxxr"
      }
    },
    {
      "cell_type": "code",
      "source": [
        "for variable_externa in secuencia_externa:\n",
        "            # Código del bucle externo (se ejecuta una vez por cada elemento externo)\n",
        "            print(f\"Iteración Externa: {variable_externa}\")\n",
        "\n",
        "            for variable_interna in secuencia_interna:\n",
        "                # Código del bucle interno (se ejecuta completamente por cada iteración externa)\n",
        "                print(f\"  Iteración Interna: {variable_interna} (dentro de Externa {variable_externa})\")\n",
        "            print(\"-\" * 10) # Separador para claridad"
      ],
      "outputs": [],
      "execution_count": null,
      "metadata": {
        "id": "tRtVVhU8Kxxr"
      }
    },
    {
      "cell_type": "markdown",
      "source": [
        "* **Visualización del Flujo (Ejemplo `range(2)` para ambos):**\n",
        "        ```\n",
        "        variable_externa = 0  (Primera iteración del bucle externo)\n",
        "        |   print(\"Iteración Externa: 0\")\n",
        "        |\n",
        "        |   variable_interna = 0 (Primera iteración del bucle interno)\n",
        "        |   |   print(\"  Iteración Interna: 0 (dentro de Externa 0)\")\n",
        "        |   variable_interna = 1 (Segunda iteración del bucle interno)\n",
        "        |   |   print(\"  Iteración Interna: 1 (dentro de Externa 0)\")\n",
        "        |   (Bucle interno termina para externa=0)\n",
        "        |   print(\"----------\")\n",
        "        |\n",
        "        variable_externa = 1  (Segunda iteración del bucle externo)\n",
        "        |   print(\"Iteración Externa: 1\")\n",
        "        |\n",
        "        |   variable_interna = 0 (Primera iteración del bucle interno)\n",
        "        |   |   print(\"  Iteración Interna: 0 (dentro de Externa 1)\")\n",
        "        |   variable_interna = 1 (Segunda iteración del bucle interno)\n",
        "        |   |   print(\"  Iteración Interna: 1 (dentro de Externa 1)\")\n",
        "        |   (Bucle interno termina para externa=1)\n",
        "        |   print(\"----------\")\n",
        "        (Bucle externo termina)\n",
        "\n",
        "        Salida Esperada:\n",
        "        Iteración Externa: 0\n",
        "          Iteración Interna: 0 (dentro de Externa 0)\n",
        "          Iteración Interna: 1 (dentro de Externa 0)\n",
        "        ----------\n",
        "        Iteración Externa: 1\n",
        "          Iteración Interna: 0 (dentro de Externa 1)\n",
        "          Iteración Interna: 1 (dentro de Externa 1)\n",
        "        ----------\n",
        "        ```\n",
        "      * **Caso de Uso Común: Tablas de Multiplicar / Coordenadas / Matrices**\n",
        "          * Imprimir una tabla de multiplicar del 1 al 3:"
      ],
      "metadata": {
        "id": "_-UctFiZKxxr"
      }
    },
    {
      "cell_type": "code",
      "source": [
        "for i in range(1, 4): # i será 1, 2, 3 (tabla del i)\n",
        "                print(f\"Tabla del {i}:\")\n",
        "                for j in range(1, 11): # j será 1, 2, ..., 10 (multiplicador)\n",
        "                    print(f\"  {i} x {j} = {i*j}\")\n",
        "                print(\"-----\")"
      ],
      "outputs": [],
      "execution_count": null,
      "metadata": {
        "id": "CSE4wQzRKxxr"
      }
    },
    {
      "cell_type": "markdown",
      "source": [
        "* Generar pares de coordenadas (como en un tablero):"
      ],
      "metadata": {
        "id": "PChzoy4mKxxr"
      }
    },
    {
      "cell_type": "code",
      "source": [
        "for fila in range(3): # fila 0, 1, 2\n",
        "                for columna in range(3): # columna 0, 1, 2\n",
        "                    print(f\"Coordenada: ({fila}, {columna})\")"
      ],
      "outputs": [],
      "execution_count": null,
      "metadata": {
        "id": "20B01BM4Kxxr"
      }
    },
    {
      "cell_type": "markdown",
      "source": [
        "Esto es fundamental para trabajar con \"arreglos bidimensionales\" o listas de listas.\n",
        "\n",
        "-----\n",
        "\n",
        "**8. Funciones (Basado en PDF \"7. Funciones\")**\n",
        "\n",
        "  * **Concepto, Definición y Llamada:**\n",
        "\n",
        "      * **Explicación Simple:** Una función es un bloque de código con nombre que realiza una tarea específica. Imagina que es una \"mini-máquina\" a la que le das unas entradas (parámetros), hace su trabajo y te devuelve un resultado (valor de retorno).\n",
        "      * **¿Para qué sirven?**\n",
        "          * **Minificación/Modularización:** Dividen un programa grande en partes más pequeñas y manejables. Cada función hace una cosa.\n",
        "          * **Reutilización:** Escribes la función una vez y la puedes usar (llamar) muchas veces desde diferentes partes de tu programa.\n",
        "          * **Legibilidad:** Hacen el código más fácil de leer y entender.\n",
        "          * **Depuración:** Es más fácil encontrar y corregir errores en funciones pequeñas y aisladas.\n",
        "      * **Definición (Sintaxis):**"
      ],
      "metadata": {
        "id": "tuOzfikhKxxr"
      }
    },
    {
      "cell_type": "code",
      "source": [
        "def nombre_de_la_funcion(parametro1, parametro2, ...): # Cabecera de la función\n",
        "            \"\"\"\n",
        "            Docstring: Explicación de lo que hace la función (opcional pero muy recomendado).\n",
        "            Args:\n",
        "                parametro1 (tipo): Descripción del parametro1.\n",
        "                parametro2 (tipo): Descripción del parametro2.\n",
        "            Returns:\n",
        "                tipo_retorno: Descripción de lo que devuelve.\n",
        "            \"\"\"\n",
        "            # Cuerpo de la función (código indentado)\n",
        "            # ...realiza alguna tarea...\n",
        "            resultado = parametro1 + parametro2 # Ejemplo\n",
        "            return resultado # Devuelve un valor (opcional)"
      ],
      "outputs": [],
      "execution_count": null,
      "metadata": {
        "id": "G4JH025SKxxr"
      }
    },
    {
      "cell_type": "markdown",
      "source": [
        "* `def`: Palabra clave para definir una función.\n",
        "          * `nombre_de_la_funcion`: Elige un nombre descriptivo (snake\\_case).\n",
        "          * `parametro1, parametro2`: Entradas que la función puede recibir (opcionales).\n",
        "          * `\"\"\"Docstring\"\"\"`: Documentación de la función.\n",
        "          * `return resultado`: Envía un valor de vuelta a donde se llamó la función. Si no hay `return`, la función devuelve `None` implícitamente.\n",
        "      * **Llamada (Invocación):**\n",
        "          * Para usar una función, la \"llamas\" por su nombre, pasándole los valores (argumentos) que necesiten sus parámetros.\n",
        "        <!-- end list -->"
      ],
      "metadata": {
        "id": "AP8FhPY5Kxxs"
      }
    },
    {
      "cell_type": "code",
      "source": [
        "# Definición de la función (ejemplo de antes)\n",
        "        def sumar_numeros(num1, num2):\n",
        "            \"\"\"Suma dos números y devuelve el resultado.\"\"\"\n",
        "            suma = num1 + num2\n",
        "            return suma\n",
        "\n",
        "        # Llamada a la función\n",
        "        resultado_suma = sumar_numeros(5, 3) # 5 es para num1, 3 para num2\n",
        "        print(f\"El resultado de la suma es: {resultado_suma}\") # Salida: 8\n",
        "\n",
        "        otro_resultado = sumar_numeros(100, 50)\n",
        "        print(f\"Otro resultado: {otro_resultado}\") # Salida: 150"
      ],
      "outputs": [],
      "execution_count": null,
      "metadata": {
        "id": "welGmk61Kxxs"
      }
    },
    {
      "cell_type": "markdown",
      "source": [
        "* **Parámetros (PDF 7, Pág. 10, 15-19):**\n",
        "\n",
        "      * **Parámetros Formales:** Los nombres de las variables en la definición de la función (ej: `num1`, `num2` en `def sumar_numeros(num1, num2):`).\n",
        "      * **Argumentos (Parámetros Actuales):** Los valores que se pasan a la función cuando se la llama (ej: `5`, `3` en `sumar_numeros(5, 3)`).\n",
        "      * **Parámetros por Posición:** Los argumentos se asignan a los parámetros según su orden."
      ],
      "metadata": {
        "id": "SVYLOrJcKxxs"
      }
    },
    {
      "cell_type": "code",
      "source": [
        "def describir_persona(nombre, edad):\n",
        "            print(f\"{nombre} tiene {edad} años.\")\n",
        "\n",
        "        describir_persona(\"Carlos\", 30) # \"Carlos\" es para nombre, 30 para edad"
      ],
      "outputs": [],
      "execution_count": null,
      "metadata": {
        "id": "G4lsDmsDKxxs"
      }
    },
    {
      "cell_type": "markdown",
      "source": [
        "* **Parámetros por Nombre (Keywords Arguments):** Puedes especificar a qué parámetro va cada argumento usando su nombre. El orden no importa si usas nombres."
      ],
      "metadata": {
        "id": "YSQl0wNrKxxs"
      }
    },
    {
      "cell_type": "code",
      "source": [
        "describir_persona(edad=25, nombre=\"Laura\") # Funciona igual"
      ],
      "outputs": [],
      "execution_count": null,
      "metadata": {
        "id": "ursA_x2WKxxs"
      }
    },
    {
      "cell_type": "markdown",
      "source": [
        "* **Parámetros Opcionales (con Valores por Defecto):** Puedes darles un valor por defecto a los parámetros en la definición. Si no se pasa un argumento para ese parámetro al llamar la función, usará el valor por defecto. Los parámetros opcionales DEBEN ir después de los obligatorios."
      ],
      "metadata": {
        "id": "1WMTh2bDKxxs"
      }
    },
    {
      "cell_type": "code",
      "source": [
        "def saludar(nombre, saludo=\"Hola\"): # saludo es opcional, por defecto es \"Hola\"\n",
        "            print(f\"{saludo}, {nombre}!\")\n",
        "\n",
        "        saludar(\"Pedro\")         # Salida: Hola, Pedro!\n",
        "        saludar(\"María\", \"Buenos días\") # Salida: Buenos días, María!"
      ],
      "outputs": [],
      "execution_count": null,
      "metadata": {
        "id": "aglkIy7PKxxs"
      }
    },
    {
      "cell_type": "markdown",
      "source": [
        "* **Anotaciones de Tipo (Type Hints):** Es una buena práctica indicar el tipo de dato esperado para los parámetros y el tipo de dato que retorna la función. No fuerzan los tipos, pero ayudan a la legibilidad y a herramientas de análisis."
      ],
      "metadata": {
        "id": "zFf000GlKxxs"
      }
    },
    {
      "cell_type": "code",
      "source": [
        "def calcular_area_rectangulo(base: float, altura: float) -> float:\n",
        "            \"\"\"Calcula el área de un rectángulo.\"\"\"\n",
        "            return base * altura"
      ],
      "outputs": [],
      "execution_count": null,
      "metadata": {
        "id": "-5JBdqrhKxxs"
      }
    },
    {
      "cell_type": "markdown",
      "source": [
        "* **Valor de Retorno (`return`) (PDF 7, Pág. 10, 13):**\n",
        "\n",
        "      * La sentencia `return` se usa para que una función devuelva un valor.\n",
        "      * Una función puede tener múltiples sentencias `return` (por ejemplo, en diferentes ramas de un `if`), pero solo se ejecutará una, y en cuanto se ejecuta, la función termina.\n",
        "      * Si una función no tiene una sentencia `return`, o llega al final sin ejecutar una, devuelve `None` por defecto."
      ],
      "metadata": {
        "id": "SBc88oGYKxxt"
      }
    },
    {
      "cell_type": "code",
      "source": [
        "def es_par(numero: int) -> bool:\n",
        "            if numero % 2 == 0:\n",
        "                return True # Devuelve True y termina\n",
        "            else:\n",
        "                return False # Devuelve False y termina\n",
        "\n",
        "        def mostrar_saludo(nombre: str) -> None: # 'None' indica que no devuelve valor útil\n",
        "            print(f\"¡Hola, {nombre}!\")\n",
        "            # No hay 'return' explícito, devuelve None implícitamente"
      ],
      "outputs": [],
      "execution_count": null,
      "metadata": {
        "id": "Q3JjGUfCKxxt"
      }
    },
    {
      "cell_type": "markdown",
      "source": [
        "* **Ámbito de Variables (Scope) (PDF 7, Pág. 20):**\n",
        "\n",
        "      * **Variables Locales:** Se definen DENTRO de una función. Solo son accesibles (existen) dentro de esa función. Cuando la función termina, desaparecen.\n",
        "      * **Variables Globales:** Se definen FUERA de todas las funciones. Son accesibles desde cualquier parte del programa, tanto fuera como dentro de las funciones (aunque para modificar una variable global dentro de una función se necesita la palabra clave `global`, lo cual generalmente se desaconseja si se puede evitar).\n",
        "      * **Visualización:**"
      ],
      "metadata": {
        "id": "aXGpFyRvKxxt"
      }
    },
    {
      "cell_type": "code",
      "source": [
        "variable_global = 100 # Variable global\n",
        "\n",
        "        def mi_funcion():\n",
        "            variable_local = 10 # Variable local a mi_funcion\n",
        "            print(f\"Dentro de la función, local: {variable_local}\")\n",
        "            print(f\"Dentro de la función, global: {variable_global}\") # Puede leer la global\n",
        "\n",
        "        mi_funcion()\n",
        "        print(f\"Fuera de la función, global: {variable_global}\")\n",
        "        # print(f\"Fuera de la función, local: {variable_local}\") # ESTO DARÍA ERROR, variable_local no existe aquí"
      ],
      "outputs": [],
      "execution_count": null,
      "metadata": {
        "id": "re3UxRT2Kxxt"
      }
    },
    {
      "cell_type": "markdown",
      "source": [
        "* **Docstrings (Documentación de Funciones) (PDF 7, Pág. 10, 26-27):**\n",
        "\n",
        "      * Son cadenas de texto multilínea (usando triple comilla `\"\"\"Docstring aquí\"\"\"` o `'''Docstring aquí'''`) que se colocan como la primera instrucción dentro de una función (o módulo, clase).\n",
        "      * Sirven para documentar qué hace la función, qué parámetros recibe y qué devuelve.\n",
        "      * Es una práctica fundamental para que tu código sea comprensible.\n",
        "\n",
        "  * **Paso de Parámetros en Python (Paso por Referencia de Objeto) (PDF 7, Pág. 22-25):**\n",
        "\n",
        "      * **Explicación Simple:** Cuando pasas una variable a una función, Python no crea una copia completa del dato (como en \"paso por valor\" puro), ni le da a la función el control total para cambiar la variable original fuera de la función (como en \"paso por referencia\" puro de C++ con `&`).\n",
        "      * Python pasa una \"referencia al objeto\". Piensa que la variable es una etiqueta que apunta a un objeto en la memoria. La función recibe una copia de esa etiqueta, apuntando al MISMO objeto.\n",
        "      * **Implicaciones con Tipos Mutables e Inmutables:**\n",
        "          * **Tipos Inmutables (números, strings, tuplas):** Si la función intenta \"cambiar\" el valor de un parámetro inmutable, en realidad crea un NUEVO objeto dentro de la función, y el parámetro local de la función pasa a apuntar a ese nuevo objeto. La variable original fuera de la función NO se ve afectada."
      ],
      "metadata": {
        "id": "Fbv1bq73Kxxt"
      }
    },
    {
      "cell_type": "code",
      "source": [
        "def intentar_modificar_numero(num):\n",
        "                num = num + 10 # 'num' local ahora apunta a un nuevo objeto (valor original + 10)\n",
        "                print(f\"Dentro de la función: {num}\")\n",
        "\n",
        "            mi_numero = 5\n",
        "            intentar_modificar_numero(mi_numero) # Se pasa una referencia al objeto '5'\n",
        "            print(f\"Fuera de la función: {mi_numero}\") # Sigue siendo 5\n",
        "            # Salida:\n",
        "            # Dentro de la función: 15\n",
        "            # Fuera de la función: 5"
      ],
      "outputs": [],
      "execution_count": null,
      "metadata": {
        "id": "KGIm75nIKxxt"
      }
    },
    {
      "cell_type": "markdown",
      "source": [
        "* **Tipos Mutables (listas, diccionarios):** Si la función modifica el contenido INTERNO del objeto mutable a través de su referencia, los cambios SÍ se reflejan en la variable original fuera de la función, porque ambas (la original y el parámetro) apuntan al MISMO objeto que está siendo modificado."
      ],
      "metadata": {
        "id": "m-jwq1OIKxxt"
      }
    },
    {
      "cell_type": "code",
      "source": [
        "def modificar_lista(lista_param):\n",
        "                lista_param.append(4) # Modifica el objeto lista original\n",
        "                print(f\"Dentro de la función: {lista_param}\")\n",
        "\n",
        "            mi_lista = [1, 2, 3]\n",
        "            modificar_lista(mi_lista) # Se pasa una referencia al objeto lista [1,2,3]\n",
        "            print(f\"Fuera de la función: {mi_lista}\") # Ahora es [1, 2, 3, 4]\n",
        "            # Salida:\n",
        "            # Dentro de la función: [1, 2, 3, 4]\n",
        "            # Fuera de la función: [1, 2, 3, 4]"
      ],
      "outputs": [],
      "execution_count": null,
      "metadata": {
        "id": "iu8sEPlUKxxt"
      }
    },
    {
      "cell_type": "markdown",
      "source": [
        "Sin embargo, si dentro de la función reasignas el parámetro mutable a un objeto COMPLETAMENTE NUEVO (ej: `lista_param = [10, 20]`), entonces el parámetro local apuntará a ese nuevo objeto, y la lista original fuera de la función no cambiará (similar a los inmutables en ese caso de reasignación).\n",
        "\n",
        "-----\n",
        "\n",
        "**9. Funciones Recursivas (¡Explicación Detallada\\!) (Basado en PDF \"8. Funciones Recursivas\")**\n",
        "\n",
        "  * **Concepto de Recursividad:**\n",
        "\n",
        "      * **Explicación Simple:** Una función recursiva es una función que se llama a sí misma para resolver un problema. Es como resolver un problema dividiéndolo en subproblemas más pequeños que son versiones más simples del problema original, hasta llegar a un punto donde la solución es trivial.\n",
        "      * **Analogía de las Muñecas Rusas (Matrioshkas) (PDF 8, Pág. 2):** Abres una muñeca para encontrar otra más pequeña dentro, y así sucesivamente, hasta que llegas a la más pequeña que ya no se puede abrir. Cada acto de \"abrir una muñeca\" es como una llamada recursiva. La muñeca más pequeña es el \"caso base\".\n",
        "      * \"Estoy intentando arreglar los problemas que creé cuando intentaba arreglar los problemas que creé...\" (PDF 8, Pág. 3) - Una forma humorística de ver la recursividad sin fin (si no hay caso base).\n",
        "\n",
        "  * **Componentes Clave de una Función Recursiva:**\n",
        "\n",
        "    1.  **Caso Base:**\n",
        "          * Es la condición (o condiciones) que detiene la recursividad. Es la versión más simple del problema, cuya solución se conoce directamente sin necesidad de más llamadas recursivas.\n",
        "          * **¡Esencial\\!** Sin un caso base, la función se llamaría a sí misma infinitamente, llevando a un error de \"desbordamiento de pila\" (RecursionError).\n",
        "    2.  **Paso Recursivo (o Llamada Recursiva):**\n",
        "          * Es la parte de la función donde se llama a sí misma, pero con una entrada que la acerca al caso base (generalmente un problema \"más pequeño\" o \"más simple\").\n",
        "          * La función combina el resultado de la llamada recursiva con alguna operación para resolver el problema actual.\n",
        "\n",
        "  * **Ejemplo Clásico: Factorial de un Número**\n",
        "\n",
        "      * El factorial de un número entero no negativo $n$ (denotado como $n\\!$) es el producto de todos los enteros positivos menores o iguales a $n$.\n",
        "          * $5\\! = 5 \\\\times 4 \\\\times 3 \\\\times 2 \\\\times 1 = 120$\n",
        "          * $3\\! = 3 \\\\times 2 \\\\times 1 = 6$\n",
        "          * $0\\! = 1$ (por definición, este es nuestro caso base más simple).\n",
        "      * **Definición Recursiva del Factorial (PDF 8, Pág. 6):**\n",
        "          * $n\\! = n \\\\times (n-1)\\!$  (para $n \\> 0$)  \\<-- Paso Recursivo\n",
        "          * $0\\! = 1$                     \\<-- Caso Base\n",
        "      * **Implementación en Python:**"
      ],
      "metadata": {
        "id": "wtT4a_0MKxxt"
      }
    },
    {
      "cell_type": "code",
      "source": [
        "def factorial_recursivo(n: int) -> int:\n",
        "            \"\"\"Calcula el factorial de n usando recursividad.\"\"\"\n",
        "            # 1. Caso Base\n",
        "            if n == 0:\n",
        "                print(f\"factorial_recursivo(0) -> Caso Base, devuelve 1\")\n",
        "                return 1\n",
        "            # 2. Paso Recursivo\n",
        "            else:\n",
        "                print(f\"factorial_recursivo({n}) -> Llama a factorial_recursivo({n-1}) y multiplica por {n}\")\n",
        "                resultado_parcial = factorial_recursivo(n - 1) # Llamada recursiva\n",
        "                resultado_final = n * resultado_parcial\n",
        "                print(f\"factorial_recursivo({n}) -> devuelve {resultado_final} (que es {n} * {resultado_parcial})\")\n",
        "                return resultado_final\n",
        "\n",
        "        # Prueba\n",
        "        print(f\"\\nCalculando 3!:\")\n",
        "        resultado = factorial_recursivo(3)\n",
        "        print(f\"El factorial de 3 es: {resultado}\")"
      ],
      "outputs": [],
      "execution_count": null,
      "metadata": {
        "id": "z6v0_nnCKxxt"
      }
    },
    {
      "cell_type": "markdown",
      "source": [
        "* **Visualización del Flujo de `factorial_recursivo(3)`:**\n",
        "        ```\n",
        "        1. factorial_recursivo(3) llama a factorial_recursivo(2)\n",
        "           |  (espera el resultado de factorial_recursivo(2) para multiplicar por 3)\n",
        "           |\n",
        "           └──> 2. factorial_recursivo(2) llama a factorial_recursivo(1)\n",
        "                 |  (espera el resultado de factorial_recursivo(1) para multiplicar por 2)\n",
        "                 |\n",
        "                 └──> 3. factorial_recursivo(1) llama a factorial_recursivo(0)\n",
        "                       |  (espera el resultado de factorial_recursivo(0) para multiplicar por 1)\n",
        "                       |\n",
        "                       └──> 4. factorial_recursivo(0)  ¡CASO BASE! Devuelve 1.\n",
        "                                 ↖ (devuelve 1 a la llamada de factorial_recursivo(1))\n",
        "                                 |\n",
        "                          5. factorial_recursivo(1) recibe 1, calcula 1 * 1 = 1. Devuelve 1.\n",
        "                                 ↖ (devuelve 1 a la llamada de factorial_recursivo(2))\n",
        "                                 |\n",
        "                           6. factorial_recursivo(2) recibe 1, calcula 2 * 1 = 2. Devuelve 2.\n",
        "                                 ↖ (devuelve 2 a la llamada de factorial_recursivo(3))\n",
        "                                 |\n",
        "                            7. factorial_recursivo(3) recibe 2, calcula 3 * 2 = 6. Devuelve 6.\n",
        "\n",
        "        Resultado final: 6\n",
        "        ```\n",
        "\n",
        "  * **Pila de Llamadas (Call Stack) (PDF 8, Pág. 9):**\n",
        "\n",
        "      * **Explicación Simple:** Cuando una función llama a otra (o a sí misma), Python necesita recordar dónde estaba en la función llamante para poder volver cuando la función llamada termine. Esta información (como variables locales, punto de retorno) se guarda en una estructura llamada \"pila de llamadas\".\n",
        "      * En la recursividad, cada llamada recursiva agrega un nuevo \"marco\" a esta pila.\n",
        "      * **Visualización para `factorial_recursivo(3)`:**\n",
        "        ```\n",
        "        Pila de Llamadas (crece hacia abajo):\n",
        "\n",
        "        Última en entrar, primera en salir (LIFO)\n",
        "\n",
        "        Marco 4: factorial_recursivo(0) <-- Se resuelve primero, devuelve 1, se quita de la pila.\n",
        "        Marco 3: factorial_recursivo(1) <-- Esperando por factorial_recursivo(0)\n",
        "        Marco 2: factorial_recursivo(2) <-- Esperando por factorial_recursivo(1)\n",
        "        Marco 1: factorial_recursivo(3) <-- Esperando por factorial_recursivo(2)\n",
        "        (Programa principal)\n",
        "        ```\n",
        "      * Cuando se alcanza el caso base, los marcos comienzan a resolverse y \"desapilarse\" uno por uno, devolviendo sus resultados al marco anterior.\n",
        "      * **RecursionError (Desbordamiento de Pila):** Si no hay un caso base, o el caso base no se alcanza correctamente, la función se llama a sí misma sin parar, la pila de llamadas crece demasiado hasta que se agota la memoria asignada, y Python lanza un `RecursionError`.\n",
        "\n",
        "  * **Ventajas de la Recursividad (PDF 8, Pág. 10):**\n",
        "\n",
        "      * **Simplicidad Conceptual:** Algunos problemas tienen una naturaleza inherentemente recursiva (ej: estructuras de datos como árboles, algoritmos de \"divide y vencerás\"), y su solución recursiva es más clara, elegante y fácil de entender que una solución iterativa (con bucles).\n",
        "      * **Código más Conciso:** A menudo, el código recursivo puede ser más corto.\n",
        "\n",
        "  * **Desventajas de la Recursividad (PDF 8, Pág. 11):**\n",
        "\n",
        "      * **Consumo de Memoria:** Cada llamada a función consume memoria en la pila de llamadas. Para recursiones muy profundas, esto puede ser un problema.\n",
        "      * **Eficiencia:** Las llamadas a funciones tienen una sobrecarga (overhead). A veces, una solución iterativa (con bucles) puede ser más eficiente en términos de tiempo y memoria.\n",
        "      * **Límite de Recursión:** Python tiene un límite de profundidad de recursión por defecto para prevenir desbordamientos de pila infinitos (generalmente alrededor de 1000 llamadas).\n",
        "\n",
        "-----\n",
        "\n",
        "**10. Arreglos Unidimensionales (Listas en Python) (Basado en PDF \"9. Arreglos Unidimensionales\")**\n",
        "\n",
        "  * **Concepto de Vector/Arreglo Unidimensional:**\n",
        "\n",
        "      * **Explicación Simple:** Un arreglo unidimensional (también llamado vector) es una estructura que te permite almacenar una colección de elementos del mismo tipo (o de diferentes tipos en Python) en una secuencia ordenada. Imagina una fila de casilleros, donde cada casillero tiene un número (índice) y puede guardar un objeto.\n",
        "      * **En Python, usamos las `listas` para representar arreglos unidimensionales.**\n",
        "\n",
        "  * **Listas en Python:**\n",
        "\n",
        "      * **Características Clave (PDF 9, Pág. 6):**\n",
        "          * **Ordenadas:** Los elementos mantienen el orden en que fueron añadidos. \"Ordenada\" no significa que estén automáticamente ordenados de menor a mayor, sino que su posición relativa se conserva.\n",
        "          * **Mutables:** Puedes cambiar, agregar o quitar elementos de una lista después de haberla creado.\n",
        "          * **Indexables:** Cada elemento tiene una posición numérica única llamada \"índice\", que se usa para acceder a él. El primer elemento tiene índice `0`.\n",
        "          * **Dinámicas:** Pueden crecer o encogerse según necesites.\n",
        "          * **Heterogéneas:** Pueden contener elementos de diferentes tipos de datos (aunque es común que contengan elementos del mismo tipo para un propósito específico).\n",
        "      * **Visualización Conceptual:**\n",
        "        ```\n",
        "        mi_lista = [\"manzana\", \"banana\", \"cereza\"]\n",
        "\n",
        "        Elemento:  \"manzana\" | \"banana\" | \"cereza\"\n",
        "        Índice:        0     |     1    |     2\n",
        "        ```\n",
        "\n",
        "  * **Declaración e Inicialización (PDF 9, Pág. 12, 16):**\n",
        "\n",
        "      * **Lista Vacía:**"
      ],
      "metadata": {
        "id": "T4ESgpcYKxxu"
      }
    },
    {
      "cell_type": "code",
      "source": [
        "lista_vacia1 = []\n",
        "        lista_vacia2 = list() # Usando el constructor"
      ],
      "outputs": [],
      "execution_count": null,
      "metadata": {
        "id": "H7Vk79KeKxxu"
      }
    },
    {
      "cell_type": "markdown",
      "source": [
        "* **Lista con Elementos:**"
      ],
      "metadata": {
        "id": "EZlJ-BweKxxu"
      }
    },
    {
      "cell_type": "code",
      "source": [
        "numeros = [10, 20, 30, 40, 50]\n",
        "        nombres = [\"Ana\", \"Luis\", \"Eva\"]\n",
        "        mixta = [1, \"Hola\", True, 3.14]"
      ],
      "outputs": [],
      "execution_count": null,
      "metadata": {
        "id": "SUN6CIRLKxxu"
      }
    },
    {
      "cell_type": "markdown",
      "source": [
        "* **Inicializar una lista con un valor repetido:**"
      ],
      "metadata": {
        "id": "igzOla7AKxxu"
      }
    },
    {
      "cell_type": "code",
      "source": [
        "ceros = [0] * 5  # Crea la lista [0, 0, 0, 0, 0]"
      ],
      "outputs": [],
      "execution_count": null,
      "metadata": {
        "id": "AujceKr6Kxxu"
      }
    },
    {
      "cell_type": "markdown",
      "source": [
        "* **Acceso a Elementos (Indexación) (PDF 9, Pág. 17-19):**\n",
        "\n",
        "      * Se usa el nombre de la lista seguido de corchetes `[]` con el índice del elemento.\n",
        "      * Los índices comienzan en `0`.\n",
        "      * **Índices Negativos:** `-1` se refiere al último elemento, `-2` al penúltimo, y así sucesivamente.\n",
        "      * **Ejemplo:**"
      ],
      "metadata": {
        "id": "Duk0_owKKxxu"
      }
    },
    {
      "cell_type": "code",
      "source": [
        "colores = [\"rojo\", \"verde\", \"azul\", \"amarillo\"]\n",
        "        print(colores[0])      # Salida: rojo (primer elemento)\n",
        "        print(colores[2])      # Salida: azul (tercer elemento)\n",
        "        print(colores[-1])     # Salida: amarillo (último elemento)\n",
        "        # print(colores[4])    # ESTO DARÍA ERROR (IndexError) porque el índice 4 está fuera de rango."
      ],
      "outputs": [],
      "execution_count": null,
      "metadata": {
        "id": "k9L35nW8Kxxu"
      }
    },
    {
      "cell_type": "markdown",
      "source": [
        "* **Modificación de Elementos (PDF 9, Pág. 20):**\n",
        "\n",
        "      * Como las listas son mutables, puedes cambiar un elemento accediéndolo por su índice y asignándole un nuevo valor.\n",
        "      *"
      ],
      "metadata": {
        "id": "SsagtCf0Kxxu"
      }
    },
    {
      "cell_type": "code",
      "source": [
        "colores = [\"rojo\", \"verde\", \"azul\"]\n",
        "          colores[1] = \"violeta\" # Cambia \"verde\" por \"violeta\"\n",
        "          print(colores)        # Salida: ['rojo', 'violeta', 'azul']"
      ],
      "outputs": [],
      "execution_count": null,
      "metadata": {
        "id": "pwQbQdp1Kxxu"
      }
    },
    {
      "cell_type": "markdown",
      "source": [
        "* **Longitud de una Lista: `len()` (PDF 9, Pág. 21-22)**\n",
        "\n",
        "      * La función `len()` devuelve la cantidad de elementos en una lista.\n",
        "      *"
      ],
      "metadata": {
        "id": "S4uP6Y6oKxxv"
      }
    },
    {
      "cell_type": "code",
      "source": [
        "numeros = [10, 20, 30]\n",
        "          cantidad = len(numeros)\n",
        "          print(f\"La lista tiene {cantidad} elementos.\") # Salida: 3\n",
        "          # El último índice válido es siempre len(lista) - 1"
      ],
      "outputs": [],
      "execution_count": null,
      "metadata": {
        "id": "RWKj96EKKxxv"
      }
    },
    {
      "cell_type": "markdown",
      "source": [
        "* **Recorrer Listas (Iterar) (PDF 9, Pág. 23-25):**\n",
        "\n",
        "      * La forma más común de procesar cada elemento de una lista es usando un bucle `for`.\n",
        "      * **Opción 1: Iterar directamente sobre los elementos:**"
      ],
      "metadata": {
        "id": "y-FRv55MKxxv"
      }
    },
    {
      "cell_type": "code",
      "source": [
        "nombres = [\"Ana\", \"Luis\", \"Eva\"]\n",
        "        for nombre_actual in nombres:\n",
        "            print(f\"Hola, {nombre_actual}\")"
      ],
      "outputs": [],
      "execution_count": null,
      "metadata": {
        "id": "VV413UcnKxxv"
      }
    },
    {
      "cell_type": "markdown",
      "source": [
        "* **Opción 2: Iterar usando índices y `range(len())`:** (Útil si necesitas el índice)"
      ],
      "metadata": {
        "id": "1WBIyC5sKxxv"
      }
    },
    {
      "cell_type": "code",
      "source": [
        "nombres = [\"Ana\", \"Luis\", \"Eva\"]\n",
        "        for i in range(len(nombres)): # i será 0, 1, 2\n",
        "            print(f\"En el índice {i} está: {nombres[i]}\")"
      ],
      "outputs": [],
      "execution_count": null,
      "metadata": {
        "id": "sKEzv2ncKxxv"
      }
    },
    {
      "cell_type": "markdown",
      "source": [
        "* **Asignación de Listas y Referencias (PDF 9, Pág. 29-33):**\n",
        "\n",
        "      * **¡Muy Importante\\!** Cuando asignas una lista a otra variable, NO estás creando una copia de la lista. Ambas variables apuntarán al MISMO objeto lista en la memoria.\n",
        "      * **Visualización:**"
      ],
      "metadata": {
        "id": "Lp3BVfZiKxxv"
      }
    },
    {
      "cell_type": "code",
      "source": [
        "lista_a = [1, 2, 3]\n",
        "        lista_b = lista_a     # lista_b NO es una nueva lista, apunta a la misma que lista_a\n",
        "\n",
        "        # Memoria:\n",
        "        # lista_a ───┐\n",
        "        #            ├─> [1, 2, 3]  (Un solo objeto lista)\n",
        "        # lista_b ───┘"
      ],
      "outputs": [],
      "execution_count": null,
      "metadata": {
        "id": "W-_Ujw7GKxxv"
      }
    },
    {
      "cell_type": "markdown",
      "source": [
        "* **Implicación:** Si modificas la lista a través de `lista_b`, ¡`lista_a` también cambiará (y viceversa)\\!"
      ],
      "metadata": {
        "id": "c1QNZDsMKxxv"
      }
    },
    {
      "cell_type": "code",
      "source": [
        "lista_a = [1, 2, 3]\n",
        "        lista_b = lista_a\n",
        "\n",
        "        lista_b.append(4) # Modificamos la lista a través de lista_b\n",
        "        print(f\"Lista A: {lista_a}\") # Salida: Lista A: [1, 2, 3, 4]\n",
        "        print(f\"Lista B: {lista_b}\") # Salida: Lista B: [1, 2, 3, 4]"
      ],
      "outputs": [],
      "execution_count": null,
      "metadata": {
        "id": "Fk79TUDRKxxv"
      }
    },
    {
      "cell_type": "markdown",
      "source": [
        "* **Para crear una copia real de una lista (y no solo una referencia):**\n",
        "          * Usando el método `copy()`: `lista_copia = lista_original.copy()`\n",
        "          * Usando \"slicing\" (rebanado): `lista_copia = lista_original[:]`\n",
        "          * Usando el constructor `list()`: `lista_copia = list(lista_original)`\n",
        "        <!-- end list -->"
      ],
      "metadata": {
        "id": "Ij-7s_uxKxxw"
      }
    },
    {
      "cell_type": "code",
      "source": [
        "lista_original = [10, 20]\n",
        "        lista_copia = lista_original.copy()\n",
        "        lista_referencia = lista_original\n",
        "\n",
        "        lista_copia.append(30)\n",
        "        print(f\"Original: {lista_original}\")      # Salida: [10, 20] (no cambió)\n",
        "        print(f\"Copia: {lista_copia}\")          # Salida: [10, 20, 30]\n",
        "\n",
        "        lista_referencia.append(40)\n",
        "        print(f\"Original: {lista_original}\")      # Salida: [10, 20, 40] (¡cambió!)\n",
        "        print(f\"Referencia: {lista_referencia}\")  # Salida: [10, 20, 40]"
      ],
      "outputs": [],
      "execution_count": null,
      "metadata": {
        "id": "vZ0A80pWKxxw"
      }
    },
    {
      "cell_type": "markdown",
      "source": [
        "* **Listas y Funciones (PDF 9, Pág. 34):**\n",
        "\n",
        "      * Las listas se pueden pasar como argumentos a funciones.\n",
        "      * Debido a que las listas son **mutables**, si una función modifica una lista que se le pasó como parámetro, esos cambios serán visibles fuera de la función (como vimos en el paso por referencia de objeto para tipos mutables en la sección de Funciones).\n",
        "\n",
        "  * **Mención de Arreglos Bidimensionales (Listas de Listas):**\n",
        "\n",
        "      * El PDF \"9. Arreglos Unidimensionales\" se centra en listas de una dimensión. Sin embargo, puedes crear estructuras bidimensionales (como una tabla o matriz) usando **listas de listas**.\n",
        "      * **Explicación Simple:** Una lista de listas es simplemente una lista donde cada elemento es, a su vez, otra lista.\n",
        "      * **Visualización Conceptual (Matriz 2x3):**"
      ],
      "metadata": {
        "id": "rGSvnLaGKxxw"
      }
    },
    {
      "cell_type": "code",
      "source": [
        "matriz = [\n",
        "            [1, 2, 3],  # Fila 0 (es una lista)\n",
        "            [4, 5, 6]   # Fila 1 (es otra lista)\n",
        "        ]\n",
        "\n",
        "        # Acceso: matriz[fila][columna]\n",
        "        # matriz[0]    -> [1, 2, 3]\n",
        "        # matriz[1]    -> [4, 5, 6]\n",
        "        # matriz[0][0] -> 1\n",
        "        # matriz[0][1] -> 2\n",
        "        # matriz[1][2] -> 6"
      ],
      "outputs": [],
      "execution_count": null,
      "metadata": {
        "id": "-OCE_quIKxxw"
      }
    },
    {
      "cell_type": "markdown",
      "source": [
        "* **Iterar sobre una Lista de Listas (usando bucles anidados):**"
      ],
      "metadata": {
        "id": "xPqsBOC8Kxxw"
      }
    },
    {
      "cell_type": "code",
      "source": [
        "matriz = [[1, 2], [3, 4]]\n",
        "        for fila_indice in range(len(matriz)): # Itera sobre los índices de las filas\n",
        "            for columna_indice in range(len(matriz[fila_indice])): # Itera sobre los índices de las columnas DE ESA FILA\n",
        "                print(f\"Elemento en ({fila_indice}, {columna_indice}): {matriz[fila_indice][columna_indice]}\")\n",
        "\n",
        "        # O de forma más directa si no necesitas los índices:\n",
        "        for fila_actual in matriz: # fila_actual es una de las listas internas\n",
        "            for elemento in fila_actual: # elemento es un valor dentro de la lista interna\n",
        "                print(elemento, end=\" \") # 'end=\" \"' imprime en la misma línea separado por espacio\n",
        "            print() # Nueva línea después de cada fila"
      ],
      "outputs": [],
      "execution_count": null,
      "metadata": {
        "id": "YwXdZUGZKxxw"
      }
    },
    {
      "cell_type": "markdown",
      "source": [
        "-----\n",
        "\n",
        "**11. Módulos y Paquetes (Basado en PDF \"9. Módulos y paquetes\")**\n",
        "\n",
        "A medida que los programas crecen, es útil organizarlos en archivos separados para que sean más fáciles de mantener y para reutilizar código.\n",
        "\n",
        "  * **Módulos (PDF \"Módulos y paquetes\", Pág. 2-6):**\n",
        "\n",
        "      * **Explicación Simple:** Un módulo es simplemente un archivo de Python (con extensión `.py`) que contiene definiciones de Python (funciones, variables, clases).\n",
        "      * **Propósito:**\n",
        "          * **Organización:** Agrupar código relacionado en un solo lugar.\n",
        "          * **Reutilización:** Puedes escribir funciones útiles en un módulo y luego usarlas en muchos otros programas sin tener que copiar y pegar el código.\n",
        "      * **Creación:** Simplemente crea un archivo `.py` y escribe tus funciones y variables en él.\n",
        "          * Ejemplo, archivo `mi_modulo_matematicas.py`:"
      ],
      "metadata": {
        "id": "yMjA1DzpKxxw"
      }
    },
    {
      "cell_type": "code",
      "source": [
        "# mi_modulo_matematicas.py\n",
        "            PI = 3.14159\n",
        "\n",
        "            def sumar(a, b):\n",
        "                return a + b\n",
        "\n",
        "            def restar(a, b):\n",
        "                return a - b"
      ],
      "outputs": [],
      "execution_count": null,
      "metadata": {
        "id": "GyNU9rBwKxxw"
      }
    },
    {
      "cell_type": "markdown",
      "source": [
        "* **Importación (Cómo usar un módulo):**\n",
        "        Para usar las funciones o variables de un módulo en otro archivo (tu programa principal, por ejemplo), necesitas importarlo. Hay varias formas:\n",
        "        1.  **`import nombre_del_modulo`:**\n",
        "              * Importa todo el módulo. Para acceder a sus contenidos, usas `nombre_del_modulo.elemento`.\n",
        "            <!-- end list -->"
      ],
      "metadata": {
        "id": "ekNSx-BWKxxw"
      }
    },
    {
      "cell_type": "code",
      "source": [
        "# programa_principal.py\n",
        "            import mi_modulo_matematicas\n",
        "\n",
        "            print(f\"Valor de PI: {mi_modulo_matematicas.PI}\")\n",
        "            resultado_suma = mi_modulo_matematicas.sumar(10, 5)\n",
        "            print(f\"Suma: {resultado_suma}\")"
      ],
      "outputs": [],
      "execution_count": null,
      "metadata": {
        "id": "xdLyddFlKxxw"
      }
    },
    {
      "cell_type": "markdown",
      "source": [
        "2.  **`from nombre_del_modulo import elemento1, elemento2`:**\n",
        "              * Importa solo los elementos específicos que necesitas. Puedes usarlos directamente sin el prefijo del nombre del módulo.\n",
        "            <!-- end list -->"
      ],
      "metadata": {
        "id": "i2YZ2T6rKxxx"
      }
    },
    {
      "cell_type": "code",
      "source": [
        "# programa_principal.py\n",
        "            from mi_modulo_matematicas import PI, sumar\n",
        "\n",
        "            print(f\"Valor de PI: {PI}\") # Se usa directamente\n",
        "            resultado_suma = sumar(7, 3)\n",
        "            print(f\"Suma: {resultado_suma}\")\n",
        "            # restar(5,2) # Esto daría error porque 'restar' no fue importado así"
      ],
      "outputs": [],
      "execution_count": null,
      "metadata": {
        "id": "fhYk3fRXKxxx"
      }
    },
    {
      "cell_type": "markdown",
      "source": [
        "3.  **`from nombre_del_modulo import *`:**\n",
        "              * Importa TODOS los nombres definidos en el módulo (excepto los que empiezan con `_`). Permite usar los elementos directamente.\n",
        "              * **¡Generalmente no se recomienda\\!** Puede llevar a conflictos de nombres si diferentes módulos tienen elementos con el mismo nombre, y hace más difícil saber de dónde viene cada función/variable.\n",
        "            <!-- end list -->"
      ],
      "metadata": {
        "id": "CY8Mtj0gKxxx"
      }
    },
    {
      "cell_type": "code",
      "source": [
        "# programa_principal.py\n",
        "            from mi_modulo_matematicas import *\n",
        "\n",
        "            print(f\"Valor de PI: {PI}\")\n",
        "            print(f\"Resta: {restar(10, 4)}\")"
      ],
      "outputs": [],
      "execution_count": null,
      "metadata": {
        "id": "RmmERctFKxxx"
      }
    },
    {
      "cell_type": "markdown",
      "source": [
        "4.  **Alias (Renombrar al importar):**\n",
        "              * Puedes darle un nombre más corto o diferente a un módulo o elemento importado usando `as`.\n",
        "            <!-- end list -->"
      ],
      "metadata": {
        "id": "KgRkq3q2Kxxx"
      }
    },
    {
      "cell_type": "code",
      "source": [
        "# programa_principal.py\n",
        "            import mi_modulo_matematicas as mates # 'mates' es el alias\n",
        "            from mi_modulo_matematicas import PI as valor_pi\n",
        "\n",
        "            print(f\"PI: {valor_pi}\")\n",
        "            print(f\"Suma: {mates.sumar(2, 2)}\")"
      ],
      "outputs": [],
      "execution_count": null,
      "metadata": {
        "id": "kGlucoLeKxxx"
      }
    },
    {
      "cell_type": "markdown",
      "source": [
        "* **Paquetes (PDF \"Módulos y paquetes\", Pág. 7-9):**\n",
        "\n",
        "      * **Explicación Simple:** Si tienes muchos módulos relacionados, puedes agruparlos en una carpeta. Esta carpeta, con un archivo especial, se convierte en un \"paquete\". Es una forma de organizar módulos en una jerarquía.\n",
        "      * **Estructura:**\n",
        "        Una carpeta que contiene:\n",
        "        1.  Un archivo especial llamado `__init__.py` (puede estar vacío). La presencia de este archivo le dice a Python que la carpeta debe ser tratada como un paquete.\n",
        "        2.  Uno o más archivos de módulo (`.py`).\n",
        "      * **Visualización de Estructura de Ejemplo:**\n",
        "        ```\n",
        "        mi_proyecto/\n",
        "        ├── programa_principal.py\n",
        "        └── mi_paquete/               <-- Esto es un paquete\n",
        "            ├── __init__.py           <-- Archivo especial\n",
        "            ├── modulo_A.py\n",
        "            └── modulo_B.py\n",
        "        ```\n",
        "      * **Importación desde Paquetes:**\n",
        "          * Usas la notación de punto (`.`) para acceder a los módulos dentro del paquete.\n",
        "          * Si en `mi_paquete/modulo_A.py` tienes una función `funcion_de_A()`:"
      ],
      "metadata": {
        "id": "4BSKk7HHKxxx"
      }
    },
    {
      "cell_type": "code",
      "source": [
        "# En programa_principal.py\n",
        "            import mi_paquete.modulo_A\n",
        "\n",
        "            mi_paquete.modulo_A.funcion_de_A()\n",
        "\n",
        "            # O también:\n",
        "            from mi_paquete import modulo_A\n",
        "            modulo_A.funcion_de_A()\n",
        "\n",
        "            # O importar una función específica:\n",
        "            from mi_paquete.modulo_A import funcion_de_A\n",
        "            funcion_de_A()\n",
        "\n",
        "            # Con alias:\n",
        "            import mi_paquete.modulo_A as modA\n",
        "            modA.funcion_de_A()"
      ],
      "outputs": [],
      "execution_count": null,
      "metadata": {
        "id": "lzq3fx1GKxxx"
      }
    },
    {
      "cell_type": "markdown",
      "source": [
        "* **Comunicar Módulos dentro del Mismo Paquete (PDF \"Módulos y paquetes\", Pág. 10-11):**\n",
        "          * Si `modulo_A` necesita usar algo de `modulo_B` (y ambos están en `mi_paquete`), `modulo_A` puede importar a `modulo_B` usando una importación relativa (con un punto `.`):"
      ],
      "metadata": {
        "id": "kaclLLQLKxxx"
      }
    },
    {
      "cell_type": "code",
      "source": [
        "# Dentro de mi_paquete/modulo_A.py\n",
        "            from . import modulo_B # Importa modulo_B del mismo paquete\n",
        "            # o\n",
        "            from .modulo_B import alguna_funcion_de_B # Importa algo específico\n",
        "\n",
        "            # ... código de modulo_A que usa modulo_B ..."
      ],
      "outputs": [],
      "execution_count": null,
      "metadata": {
        "id": "IlvxgChCKxxy"
      }
    },
    {
      "cell_type": "markdown",
      "source": [
        "* **Bibliotecas Estándar de Python (PDF \"Módulos y paquetes\", Pág. 13):**\n",
        "\n",
        "      * Python viene con una gran cantidad de módulos y paquetes incorporados, conocidos como la \"biblioteca estándar\". Ofrecen funcionalidades para muchas tareas comunes (matemáticas con el módulo `math`, trabajo con fechas y horas con `datetime`, generación de números aleatorios con `random`, etc.).\n",
        "      * No necesitas instalarlos; ya vienen con Python. Solo necesitas importarlos.\n",
        "      * Ejemplo:"
      ],
      "metadata": {
        "id": "y2sZK6TFKxxy"
      }
    },
    {
      "cell_type": "code",
      "source": [
        "import math\n",
        "        print(f\"La raíz cuadrada de 9 es: {math.sqrt(9)}\")\n",
        "\n",
        "        import random\n",
        "        print(f\"Un número aleatorio entre 1 y 10: {random.randint(1, 10)}\")"
      ],
      "outputs": [],
      "execution_count": null,
      "metadata": {
        "id": "ctW0rJk6Kxxy"
      }
    },
    {
      "cell_type": "markdown",
      "source": [
        "* **Módulos y Paquetes de Terceros (PDF \"Módulos y paquetes\", Pág. 14-15):**\n",
        "\n",
        "      * Además de la biblioteca estándar, hay una enorme comunidad de desarrolladores de Python que crean y comparten sus propios módulos y paquetes para todo tipo de propósitos (análisis de datos como Pandas, desarrollo web como Django/Flask, machine learning como Scikit-learn, etc.).\n",
        "      * Estos se instalan usando una herramienta llamada `pip` (que usualmente viene con Python).\n",
        "      * Ejemplo de instalación (desde la terminal o línea de comandos, NO en el script de Python):\n",
        "        `pip install nombre_del_paquete`\n",
        "        (El PDF menciona alternativas como `python -m pip install ...` si `pip` no es reconocido directamente).\n",
        "\n",
        "-----\n",
        "\n",
        "**Conclusión**\n",
        "\n",
        "Este informe ha recorrido los conceptos fundamentales presentados en tus 10 PDFs, desde la lógica básica de los algoritmos y el manejo de entradas/salidas, hasta estructuras de control más complejas, la modularización con funciones y la organización del código con módulos y paquetes.\n",
        "\n",
        "Recuerda que la clave para aprender programación es la **práctica constante**. Intenta aplicar estos conceptos resolviendo pequeños problemas, modificando los ejemplos y experimentando. Presta especial atención a los bucles anidados y la recursividad, ya que entender su flujo requiere un poco más de práctica y visualización mental. Repasa los ejemplos, dibuja los flujos si es necesario, y no dudes en volver a consultar estos conceptos.\n",
        "\n",
        "¡Espero que este informe detallado te sea de gran ayuda en tu aprendizaje\\!"
      ],
      "metadata": {
        "id": "9W8UThXwKxxy"
      }
    }
  ],
  "metadata": {
    "colab": {
      "provenance": []
    },
    "kernelspec": {
      "display_name": "Python 3",
      "name": "python3"
    }
  },
  "nbformat": 4,
  "nbformat_minor": 0
}